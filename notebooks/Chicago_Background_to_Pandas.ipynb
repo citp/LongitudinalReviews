{
 "cells": [
  {
   "cell_type": "code",
   "execution_count": null,
   "metadata": {},
   "outputs": [],
   "source": [
    "import json\n",
    "import os\n",
    "import re\n",
    "import traceback\n",
    "\n",
    "import math\n",
    "import random\n",
    "\n",
    "import pyzipcode\n",
    "import hashlib\n",
    "\n",
    "import matplotlib.pyplot as plt\n",
    "import seaborn as sns\n",
    "from IPython.display import Markdown\n",
    "from IPython.display import HTML\n",
    "from tqdm import tqdm\n",
    "\n",
    "import sqlite3\n",
    "import pandas as pd\n",
    "import nltk\n",
    "import scipy\n",
    "import scipy.stats\n",
    "import numpy as np\n",
    "\n",
    "import statsmodels.stats.multitest as multitest\n",
    "import statsmodels.api as sm\n",
    "from sklearn.linear_model import LinearRegression,LogisticRegression\n",
    "import sklearn.preprocessing\n",
    "from sklearn.decomposition import PCA\n",
    "from sklearn.ensemble import RandomForestClassifier,RandomForestRegressor\n",
    "from sklearn.model_selection import cross_val_score, cross_validate, LeaveOneOut, KFold\n",
    "from sklearn.metrics import r2_score\n",
    "\n",
    "import itertools\n",
    "import collections\n",
    "import functools\n",
    "import collections\n"
   ]
  },
  {
   "cell_type": "code",
   "execution_count": null,
   "metadata": {},
   "outputs": [],
   "source": [
    "chicago_zips = ['60611', '60614', '60302', '60610', '60607', '60657', '60605',\n",
    "                '60616', '60654', '60603', '60602', '60631', '60601', '60606',\n",
    "                '60661', '60660', '60615', '60647', '60618', '60622', '60640',\n",
    "                '60625', '60642', '60613', '60641', '60646', '60608', '60630',\n",
    "                '60629', '60623', '60659', '60612', '60609', '60632', '60638',\n",
    "                '60644', '60643', '60546']\n"
   ]
  },
  {
   "cell_type": "code",
   "execution_count": null,
   "metadata": {},
   "outputs": [],
   "source": [
    "def flatten_json(v):\n",
    "    if type(v) == str or type(v) == int or type(v) == float or type(v) == bool or v == None:\n",
    "        return v\n",
    "    if type(v) == list:\n",
    "        new_dict = {}\n",
    "        for idx, item in enumerate(v):\n",
    "            flattened = flatten_json(item)\n",
    "            if type(flattened) == dict:\n",
    "                for ko,vo in flattened.items():\n",
    "                    new_dict[\"%d.%s\" % (idx,ko)] = vo\n",
    "            else:\n",
    "                new_dict[\"%d\" % (idx)] = flattened\n",
    "        return new_dict\n",
    "    elif type(v) == dict:\n",
    "        new_dict = {}\n",
    "        for key,value in v.items():\n",
    "            value = flatten_json(value)\n",
    "            if type(value) == dict:\n",
    "                for ko,vo in value.items():\n",
    "                    new_dict[\"%s.%s\" % (key,ko)] = vo\n",
    "            else:\n",
    "                new_dict[key] = value\n",
    "        return new_dict\n",
    "    else:\n",
    "        raise Exception(v,type(v))\n",
    "            \n",
    "\n",
    "def get_chicago_businesses():\n",
    "    for zipcode in chicago_zips:\n",
    "        with open(f\"../data/eyg_data/businesses_by_zipcode/{zipcode}.json\") as f:\n",
    "            businesses = json.load(f)\n",
    "        for business in businesses:\n",
    "            if \"special_hours\" in business:\n",
    "                del business[\"special_hours\"]\n",
    "            if \"hours\" in business:\n",
    "                del business[\"hours\"]\n",
    "                \n",
    "            try:\n",
    "                yield flatten_json(business)\n",
    "            except:\n",
    "                display(business)\n",
    "                raise"
   ]
  },
  {
   "cell_type": "code",
   "execution_count": null,
   "metadata": {},
   "outputs": [],
   "source": [
    "with open(f\"../data/eyg_data/businesses_by_zipcode/{chicago_zips[0]}.json\") as f:\n",
    "    businessid_map = json.load(f)"
   ]
  },
  {
   "cell_type": "code",
   "execution_count": null,
   "metadata": {},
   "outputs": [],
   "source": [
    "businessid_map"
   ]
  },
  {
   "cell_type": "code",
   "execution_count": null,
   "metadata": {},
   "outputs": [],
   "source": [
    "businesses = pd.DataFrame.from_records(get_chicago_businesses())\n",
    "businesses"
   ]
  },
  {
   "cell_type": "code",
   "execution_count": null,
   "metadata": {},
   "outputs": [],
   "source": [
    "def get_chicago_reviews():\n",
    "    for zipcode in chicago_zips:\n",
    "        with open(f\"../data/eyg_data/recommended_reviews/{zipcode}.json\") as f:\n",
    "            business_to_reviews = json.load(f)\n",
    "        for businessID,reviews in business_to_reviews.items():\n",
    "            for review in reviews:\n",
    "                review[\"businessID\"] = businessID\n",
    "                review[\"flagged\"] = \"N\"\n",
    "                yield review\n",
    "        \n",
    "        with open(f\"../data/eyg_data/not_recommended_reviews/{zipcode}.json\") as f:\n",
    "            business_to_reviews = json.load(f)\n",
    "        for businessID,reviews in business_to_reviews.items():\n",
    "            for review in reviews:\n",
    "                review[\"businessID\"] = businessID\n",
    "                review[\"flagged\"] = \"Y\"\n",
    "                yield review"
   ]
  },
  {
   "cell_type": "code",
   "execution_count": null,
   "metadata": {},
   "outputs": [],
   "source": [
    "reviews = pd.DataFrame.from_records(get_chicago_reviews())"
   ]
  },
  {
   "cell_type": "code",
   "execution_count": null,
   "metadata": {},
   "outputs": [],
   "source": [
    "reviews.businessID.unique().size"
   ]
  },
  {
   "cell_type": "code",
   "execution_count": null,
   "metadata": {},
   "outputs": [],
   "source": [
    "businesses.groupby(\"rating\").size()"
   ]
  },
  {
   "cell_type": "code",
   "execution_count": null,
   "metadata": {},
   "outputs": [],
   "source": [
    "businesses"
   ]
  },
  {
   "cell_type": "code",
   "execution_count": null,
   "metadata": {},
   "outputs": [],
   "source": [
    "businesses[businesses.id.isin(reviews.businessID.unique())].groupby(\"rating\").size()"
   ]
  },
  {
   "cell_type": "code",
   "execution_count": null,
   "metadata": {},
   "outputs": [],
   "source": [
    "reviews.to_pickle(\"../data/pickles/chicago_reviews.pkl\")\n",
    "businesses.to_pickle(\"../data/pickles/chicago_businesses.pkl\")"
   ]
  },
  {
   "cell_type": "code",
   "execution_count": null,
   "metadata": {},
   "outputs": [],
   "source": []
  }
 ],
 "metadata": {
  "kernelspec": {
   "display_name": "Python 3",
   "language": "python",
   "name": "python3"
  },
  "language_info": {
   "codemirror_mode": {
    "name": "ipython",
    "version": 3
   },
   "file_extension": ".py",
   "mimetype": "text/x-python",
   "name": "python",
   "nbconvert_exporter": "python",
   "pygments_lexer": "ipython3",
   "version": "3.9.6"
  }
 },
 "nbformat": 4,
 "nbformat_minor": 4
}
