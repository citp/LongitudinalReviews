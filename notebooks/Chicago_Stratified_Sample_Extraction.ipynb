{
 "cells": [
  {
   "cell_type": "code",
   "execution_count": null,
   "metadata": {},
   "outputs": [],
   "source": [
    "import json\n",
    "import os\n",
    "import re\n",
    "import traceback\n",
    "\n",
    "import math\n",
    "import scipy\n",
    "import scipy.stats\n",
    "import numpy as np\n",
    "import random\n",
    "\n",
    "import pyzipcode\n",
    "import hashlib\n",
    "\n",
    "import matplotlib.pyplot as plt\n",
    "import seaborn as sns\n",
    "from IPython.display import Markdown\n",
    "from IPython.display import HTML\n",
    "from tqdm import tqdm\n",
    "\n",
    "import sqlite3\n",
    "import pandas as pd\n",
    "import nltk\n",
    "import statsmodels.stats.multitest as multitest\n",
    "\n",
    "import itertools\n",
    "import collections\n",
    "import functools\n",
    "import collections\n"
   ]
  },
  {
   "cell_type": "code",
   "execution_count": null,
   "metadata": {},
   "outputs": [],
   "source": [
    "yc_reviews = pd.read_pickle(\"../data/pickles/yelpchi_reviews.pkl\")\n",
    "yc_updated_reviews = pd.read_pickle(\"../data/pickles/yelpchi_updated_reviews.pkl\")\n",
    "yc_businesses = pd.read_pickle(\"../data/pickles/yelpchi_businesses_with_chain.pkl\")"
   ]
  },
  {
   "cell_type": "code",
   "execution_count": null,
   "metadata": {},
   "outputs": [],
   "source": [
    "def flatten_json(v):\n",
    "    if type(v) == str or type(v) == int or type(v) == float or type(v) == bool or v == None:\n",
    "        return v\n",
    "    if type(v) == list:\n",
    "        new_dict = {}\n",
    "        for idx, item in enumerate(v):\n",
    "            flattened = flatten_json(item)\n",
    "            if type(flattened) == dict:\n",
    "                for ko,vo in flattened.items():\n",
    "                    new_dict[\"%d.%s\" % (idx,ko)] = vo\n",
    "            else:\n",
    "                new_dict[\"%d\" % (idx)] = flattened\n",
    "        return new_dict\n",
    "    elif type(v) == dict:\n",
    "        new_dict = {}\n",
    "        for key,value in v.items():\n",
    "            value = flatten_json(value)\n",
    "            if type(value) == dict:\n",
    "                for ko,vo in value.items():\n",
    "                    new_dict[\"%s.%s\" % (key,ko)] = vo\n",
    "            else:\n",
    "                new_dict[key] = value\n",
    "        return new_dict\n",
    "    else:\n",
    "        raise Exception(v,type(v))\n",
    "            \n",
    "\n",
    "mismatches = None\n",
    "            \n",
    "def get_chicago_businesses():\n",
    "    \n",
    "    global mismatches\n",
    "    mismatches = collections.defaultdict(list)\n",
    "    \n",
    "    with open(\"../data/ranking_zip_map.json\") as f:\n",
    "        zipmap = json.load(f)\n",
    "    for zipcode,businesses in zipmap.items():\n",
    "        print(zipcode)\n",
    "        for business in businesses:\n",
    "            \n",
    "            if business[\"location\"][\"zip_code\"] != zipcode:\n",
    "                index = None\n",
    "                try:\n",
    "                    index = business[f\"index_{zipcode}\"]\n",
    "                except:\n",
    "                    print(\"Couldn't get index\")\n",
    "                mismatches[zipcode].append((business[\"name\"],business[\"id\"],index,business[\"location\"][\"zip_code\"]))\n",
    "            \n",
    "            if \"special_hours\" in business:\n",
    "                del business[\"special_hours\"]\n",
    "            if \"hours\" in business:\n",
    "                del business[\"hours\"]\n",
    "            try:\n",
    "                yield flatten_json(business)\n",
    "            except:\n",
    "                display(business)\n",
    "                raise"
   ]
  },
  {
   "cell_type": "code",
   "execution_count": null,
   "metadata": {},
   "outputs": [],
   "source": [
    "chicago_businesses = pd.DataFrame.from_records(get_chicago_businesses())"
   ]
  },
  {
   "cell_type": "code",
   "execution_count": null,
   "metadata": {},
   "outputs": [],
   "source": [
    "mismatches"
   ]
  },
  {
   "cell_type": "code",
   "execution_count": null,
   "metadata": {},
   "outputs": [],
   "source": [
    "yc_bids = set(yc_businesses.index.values)\n",
    "chicago_bids = set(chicago_businesses.id)\n",
    "len(yc_bids & chicago_bids), len(yc_bids), len(chicago_bids)"
   ]
  },
  {
   "cell_type": "code",
   "execution_count": null,
   "metadata": {},
   "outputs": [],
   "source": [
    "print(yc_businesses.loc[(yc_bids & chicago_bids)].groupby(\"is_closed\").size())\n",
    "print(yc_businesses.loc[(yc_bids - chicago_bids)].groupby(\"is_closed\").size())\n",
    "print(yc_businesses.groupby(\"is_closed\").size())"
   ]
  },
  {
   "cell_type": "code",
   "execution_count": null,
   "metadata": {},
   "outputs": [],
   "source": [
    "yc_businesses_no_rank = yc_businesses.loc[(yc_bids - chicago_bids)]\n",
    "print(yc_businesses_no_rank.groupby(\"rating\").size())\n",
    "sns.distplot(yc_businesses_no_rank.review_count,label=\"All\")\n",
    "sns.distplot(yc_businesses_no_rank[yc_businesses_no_rank.rating >=4].review_count,label=\"Rating >= 4\")\n",
    "sns.distplot(yc_businesses_no_rank[yc_businesses_no_rank.rating > 4].review_count,label=\"Rating > 4\")\n",
    "plt.legend()"
   ]
  },
  {
   "cell_type": "code",
   "execution_count": null,
   "metadata": {},
   "outputs": [],
   "source": [
    "(set(chicago_businesses[\"location.zip_code\"]) | set(yc_businesses[\"location.zip_code\"])) - (set(chicago_businesses[\"location.zip_code\"]) & set(yc_businesses[\"location.zip_code\"]))"
   ]
  },
  {
   "cell_type": "code",
   "execution_count": null,
   "metadata": {},
   "outputs": [],
   "source": []
  },
  {
   "cell_type": "code",
   "execution_count": null,
   "metadata": {},
   "outputs": [],
   "source": [
    "chicago_businesses = chicago_businesses.drop_duplicates(\"id\")"
   ]
  },
  {
   "cell_type": "code",
   "execution_count": null,
   "metadata": {},
   "outputs": [],
   "source": [
    "bins = np.arange(0.75,5.5,0.5)\n",
    "sns.distplot(chicago_businesses.rating,kde=False,bins=bins)"
   ]
  },
  {
   "cell_type": "code",
   "execution_count": null,
   "metadata": {},
   "outputs": [],
   "source": [
    "chicago_business_ids = set(chicago_businesses[\"id\"])\n",
    "matches = 0\n",
    "all_businesses = set()\n",
    "with open(\"../data/yelp_academic_dataset/yelp_academic_dataset_review.json\") as f:\n",
    "    for line in f:\n",
    "        review = json.loads(line)\n",
    "        bid = review[\"business_id\"]\n",
    "        if bid in chicago_business_ids:\n",
    "            matches += 1\n",
    "        all_businesses.add(bid)\n",
    "print(matches,matches/len(chicago_business_ids),len(chicago_business_ids),len(all_businesses))"
   ]
  },
  {
   "cell_type": "code",
   "execution_count": null,
   "metadata": {},
   "outputs": [],
   "source": [
    "next(chicago_business_ids.__iter__())"
   ]
  },
  {
   "cell_type": "code",
   "execution_count": null,
   "metadata": {},
   "outputs": [],
   "source": [
    "next(all_businesses.__iter__())"
   ]
  },
  {
   "cell_type": "code",
   "execution_count": null,
   "metadata": {},
   "outputs": [],
   "source": [
    "review"
   ]
  },
  {
   "cell_type": "code",
   "execution_count": null,
   "metadata": {},
   "outputs": [],
   "source": [
    "c_coords = (chicago_businesses[\"coordinates.latitude\"].mean(),chicago_businesses[\"coordinates.longitude\"].mean())"
   ]
  },
  {
   "cell_type": "code",
   "execution_count": null,
   "metadata": {},
   "outputs": [],
   "source": [
    "shortest_dist = 1000000\n",
    "sd_bus = None\n",
    "\n",
    "with open(\"../data/yelp_academic_dataset/yelp_academic_dataset_business.json\") as f:\n",
    "    for line in f:\n",
    "        business = json.loads(line)\n",
    "        coords = np.array((business[\"latitude\"], business[\"longitude\"]))\n",
    "        dist = np.linalg.norm(c_coords - coords)\n",
    "        if shortest_dist > dist:\n",
    "            sd_bus = business\n",
    "            shortest_dist = dist\n",
    "            "
   ]
  },
  {
   "cell_type": "code",
   "execution_count": null,
   "metadata": {},
   "outputs": [],
   "source": [
    "shortest_dist"
   ]
  },
  {
   "cell_type": "code",
   "execution_count": null,
   "metadata": {},
   "outputs": [],
   "source": [
    "sd_bus"
   ]
  },
  {
   "cell_type": "code",
   "execution_count": null,
   "metadata": {},
   "outputs": [],
   "source": [
    "shortest_dist = 1000000\n",
    "longest_dist = 0\n",
    "\n",
    "distances = []\n",
    "\n",
    "for bid, business in chicago_businesses.iterrows():\n",
    "    coords = np.array((business[\"coordinates.latitude\"], business[\"coordinates.longitude\"]))\n",
    "    dist = np.linalg.norm(c_coords - coords)\n",
    "    if shortest_dist > dist:\n",
    "        sd_bus = business\n",
    "        shortest_dist = dist\n",
    "    if longest_dist < dist:\n",
    "        longest_dist = dist\n",
    "        \n",
    "    distances.append(dist)\n",
    "        \n",
    "shortest_dist, longest_dist"
   ]
  },
  {
   "cell_type": "code",
   "execution_count": null,
   "metadata": {},
   "outputs": [],
   "source": [
    "chicago_businesses[\"distance\"] = distances"
   ]
  },
  {
   "cell_type": "code",
   "execution_count": null,
   "metadata": {},
   "outputs": [],
   "source": [
    "chicago_businesses.sort_values(\"distance\")"
   ]
  },
  {
   "cell_type": "code",
   "execution_count": null,
   "metadata": {},
   "outputs": [],
   "source": [
    "ratings = collections.defaultdict(lambda:0)\n",
    "with open(\"../data/yelp_academic_dataset/yelp_academic_dataset_review.json\") as f:\n",
    "    for line in f:\n",
    "        review = json.loads(line)\n",
    "        ratings[review[\"stars\"]] += 1"
   ]
  },
  {
   "cell_type": "code",
   "execution_count": null,
   "metadata": {},
   "outputs": [],
   "source": [
    "ratings"
   ]
  },
  {
   "cell_type": "code",
   "execution_count": null,
   "metadata": {},
   "outputs": [],
   "source": [
    "x,y=zip(*sorted(list(ratings.items()),key=lambda x: x[0]))\n",
    "x,y\n",
    "#sns.barplot(x=x,y=y)"
   ]
  },
  {
   "cell_type": "code",
   "execution_count": null,
   "metadata": {},
   "outputs": [],
   "source": [
    "max_yc = yc_reviews.date.apply(lambda x: x.strip()).apply(lambda x: x if not x.startswith(\"Updated - \") else x[len(\"Updated - \"):]).astype(\"datetime64\").max()\n",
    "yc_new = yc_updated_reviews[yc_updated_reviews.date > max_yc]"
   ]
  },
  {
   "cell_type": "code",
   "execution_count": null,
   "metadata": {},
   "outputs": [],
   "source": [
    "df_ratings = pd.DataFrame()\n",
    "df_ratings[\"yc_updated\"] = yc_updated_reviews[yc_updated_reviews.flagged == \"N\"].groupby(\"rating\").size()\n",
    "df_ratings[\"yc\"] = yc_reviews[yc_reviews.flagged == \"N\"].groupby(\"rating\").size()\n",
    "df_ratings[\"yc_new\"] = yc_new[yc_new.flagged == \"N\"].groupby(\"rating\").size()\n",
    "df_ratings[\"yc_updated_filtered\"] = yc_updated_reviews[yc_updated_reviews.flagged == \"Y\"].groupby(\"rating\").size()\n",
    "df_ratings[\"yc_filtered\"] = yc_reviews[yc_reviews.flagged == \"Y\"].groupby(\"rating\").size()\n",
    "df_ratings[\"yc_new_filtered\"] = yc_new[yc_new.flagged == \"Y\"].groupby(\"rating\").size()\n",
    "df_ratings[\"yc_updated_all\"] = yc_updated_reviews.groupby(\"rating\").size()\n",
    "df_ratings[\"yc_all\"] = yc_reviews.groupby(\"rating\").size()\n",
    "df_ratings[\"yc_new_all\"] = yc_new.groupby(\"rating\").size()\n",
    "df_ratings[\"yad\"] = y"
   ]
  },
  {
   "cell_type": "code",
   "execution_count": null,
   "metadata": {},
   "outputs": [],
   "source": [
    "df_plottable = pd.DataFrame()\n",
    "for column in list(df_ratings):\n",
    "    df = pd.DataFrame()\n",
    "    df[\"x\"] = df_ratings.index.values\n",
    "    y = np.array(df_ratings[column])\n",
    "    y_norm = y / sum(y)\n",
    "    df[\"y\"] = y_norm\n",
    "    df[\"hue\"] = column\n",
    "    df_plottable = pd.concat([df_plottable,df])"
   ]
  },
  {
   "cell_type": "code",
   "execution_count": null,
   "metadata": {},
   "outputs": [],
   "source": [
    "sns.barplot(x=\"x\",y=\"y\",hue=\"hue\",data=df_plottable)"
   ]
  },
  {
   "cell_type": "code",
   "execution_count": null,
   "metadata": {},
   "outputs": [],
   "source": [
    "scipy.stats.ks_2samp(yc_reviews.rating,yc_new.rating)"
   ]
  },
  {
   "cell_type": "code",
   "execution_count": null,
   "metadata": {},
   "outputs": [],
   "source": [
    "scipy.stats.ks_2samp(yc_updated_reviews.rating.sample(1000),yc_updated_reviews.rating.sample(1000))"
   ]
  },
  {
   "cell_type": "code",
   "execution_count": null,
   "metadata": {},
   "outputs": [],
   "source": [
    "scipy.stats.ks_2samp(yc_updated_reviews.rating,yc_reviews.rating)"
   ]
  },
  {
   "cell_type": "code",
   "execution_count": null,
   "metadata": {},
   "outputs": [],
   "source": [
    "scipy.stats.ks_2samp(df_ratings.yc,df_ratings.yc_updated)"
   ]
  },
  {
   "cell_type": "code",
   "execution_count": null,
   "metadata": {},
   "outputs": [],
   "source": [
    "list(chicago_businesses)"
   ]
  },
  {
   "cell_type": "code",
   "execution_count": null,
   "metadata": {},
   "outputs": [],
   "source": []
  }
 ],
 "metadata": {
  "kernelspec": {
   "display_name": "Python 3",
   "language": "python",
   "name": "python3"
  },
  "language_info": {
   "codemirror_mode": {
    "name": "ipython",
    "version": 3
   },
   "file_extension": ".py",
   "mimetype": "text/x-python",
   "name": "python",
   "nbconvert_exporter": "python",
   "pygments_lexer": "ipython3",
   "version": "3.9.6"
  }
 },
 "nbformat": 4,
 "nbformat_minor": 4
}
