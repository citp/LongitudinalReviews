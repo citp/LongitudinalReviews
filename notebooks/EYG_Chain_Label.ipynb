{
 "cells": [
  {
   "cell_type": "code",
   "execution_count": null,
   "metadata": {},
   "outputs": [],
   "source": [
    "import json\n",
    "import os\n",
    "import re\n",
    "import traceback\n",
    "\n",
    "import math\n",
    "import scipy\n",
    "import scipy.stats\n",
    "import numpy as np\n",
    "import random\n",
    "\n",
    "import pyzipcode\n",
    "import hashlib\n",
    "\n",
    "import matplotlib.pyplot as plt\n",
    "import seaborn as sns\n",
    "from IPython.display import Markdown\n",
    "from IPython.display import HTML\n",
    "from tqdm import tqdm\n",
    "\n",
    "import sqlite3\n",
    "import pandas as pd\n",
    "import nltk\n",
    "import statsmodels.stats.multitest as multitest\n",
    "\n",
    "import itertools\n",
    "import collections\n",
    "import functools\n",
    "import collections\n"
   ]
  },
  {
   "cell_type": "code",
   "execution_count": null,
   "metadata": {},
   "outputs": [],
   "source": [
    "yc_businesses = pd.read_pickle(\"../data/pickles/yelpchi_businesses.pkl\")"
   ]
  },
  {
   "cell_type": "code",
   "execution_count": null,
   "metadata": {},
   "outputs": [],
   "source": [
    "for gid, group in yc_businesses.groupby(\"yc_type\"):\n",
    "    for rowid, row, in group.iterrows():\n",
    "        print(\"%s,%s,%s\" % (rowid, row[\"name\"], gid))"
   ]
  },
  {
   "cell_type": "code",
   "execution_count": null,
   "metadata": {},
   "outputs": [],
   "source": [
    "chain_data = pd.read_csv(\"../documents/chain_labeling_data.csv\")\n",
    "chain_data = chain_data.iloc[:-1] #Remove a line of NA data\n",
    "chain_data = chain_data.rename(columns={\n",
    "    \"Business ID\": \"businessID\",\n",
    "    \"Name\": \"name\",\n",
    "    \"Type\": \"type\",\n",
    "    \"Is Chain\": \"isChain\",\n",
    "    \"Chain\": \"chain\",\n",
    "    \"Parent name\": \"parentName\",\n",
    "    \"Other notes\": \"otherNotes\"\n",
    "})\n",
    "chain_data = chain_data.set_index(chain_data[\"businessID\"])\n",
    "pd.concat([yc_businesses, chain_data[[\"isChain\",\"chain\",\"parentName\"]]],axis=1).to_pickle(\"../data/pickles/yelpchi_businesses_with_chain.pkl\")"
   ]
  },
  {
   "cell_type": "code",
   "execution_count": null,
   "metadata": {},
   "outputs": [],
   "source": []
  }
 ],
 "metadata": {
  "kernelspec": {
   "display_name": "Python 3",
   "language": "python",
   "name": "python3"
  },
  "language_info": {
   "codemirror_mode": {
    "name": "ipython",
    "version": 3
   },
   "file_extension": ".py",
   "mimetype": "text/x-python",
   "name": "python",
   "nbconvert_exporter": "python",
   "pygments_lexer": "ipython3",
   "version": "3.9.6"
  }
 },
 "nbformat": 4,
 "nbformat_minor": 4
}
