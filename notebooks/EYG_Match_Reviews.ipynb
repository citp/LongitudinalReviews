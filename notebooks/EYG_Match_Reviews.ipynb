{
 "cells": [
  {
   "cell_type": "code",
   "execution_count": null,
   "metadata": {},
   "outputs": [],
   "source": [
    "import json\n",
    "import os\n",
    "import re\n",
    "import traceback\n",
    "\n",
    "import math\n",
    "import scipy\n",
    "import scipy.stats\n",
    "\n",
    "import pyzipcode\n",
    "import hashlib\n",
    "\n",
    "import matplotlib.pyplot as plt\n",
    "import seaborn as sns\n",
    "from IPython.display import Markdown\n",
    "from IPython.display import HTML\n",
    "from tqdm import tqdm\n",
    "import fuzzywuzzy\n",
    "import fuzzywuzzy.fuzz\n",
    "\n",
    "import sqlite3\n",
    "import pandas as pd\n",
    "import nltk\n",
    "\n",
    "import itertools\n",
    "import collections\n",
    "import functools\n",
    "import collections\n",
    "import random\n"
   ]
  },
  {
   "cell_type": "code",
   "execution_count": null,
   "metadata": {},
   "outputs": [],
   "source": [
    "yc_reviews = pd.read_pickle(\"../data/pickles/yelpchi_reviews_unmatched.pkl\")\n",
    "yc_updated_reviews = pd.read_pickle(\"../data/pickles/yelpchi_updated_reviews_unmatched.pkl\")\n",
    "yc_businesses = pd.read_pickle(\"../data/pickles/yelpchi_businesses_unmatched.pkl\")"
   ]
  },
  {
   "cell_type": "markdown",
   "metadata": {},
   "source": [
    "# Let's try to match reviews across the datasets"
   ]
  },
  {
   "cell_type": "code",
   "execution_count": null,
   "metadata": {},
   "outputs": [],
   "source": [
    "matches = {}\n",
    "matches_sc = {}\n",
    "\n",
    "multiple_matches = {}"
   ]
  },
  {
   "cell_type": "code",
   "execution_count": null,
   "metadata": {},
   "outputs": [],
   "source": [
    "yc_updated_reviews"
   ]
  },
  {
   "cell_type": "code",
   "execution_count": null,
   "metadata": {},
   "outputs": [],
   "source": [
    "#yc_updated_reviews_indexed = yc_updated_reviews.reset_index().rename(columns={\"index\": \"reviewID\"}).set_index([\"businessID\", \"reviewHash\", \"reviewHashNoLF\", \"reviewID\"])"
   ]
  },
  {
   "cell_type": "code",
   "execution_count": null,
   "metadata": {},
   "outputs": [],
   "source": [
    "#yc_updated_reviews_indexed"
   ]
  },
  {
   "cell_type": "code",
   "execution_count": null,
   "metadata": {},
   "outputs": [],
   "source": [
    "hash_to_id = collections.defaultdict(set)\n",
    "yc_reviews_at_time = yc_updated_reviews[yc_updated_reviews.date <= yc_reviews.date.max()]\n",
    "out_of = len(yc_reviews_at_time)\n",
    "for rowid, row in tqdm(yc_reviews_at_time.iterrows(),total=out_of):\n",
    "    hash_to_id[row.reviewHashStripped].add(rowid)\n",
    "    hash_to_id[row.reviewHashBOW].add(rowid)\n",
    "    hash_to_id[row.reviewHashBOWNoLF].add(rowid)"
   ]
  },
  {
   "cell_type": "code",
   "execution_count": null,
   "metadata": {},
   "outputs": [],
   "source": [
    "ct = 0\n",
    "out_of = len(yc_reviews)\n",
    "\n",
    "\n",
    "no_matches = []\n",
    "\n",
    "for rowid,row in tqdm(yc_reviews.iterrows(), total = out_of):\n",
    "    ct += 1\n",
    "    \n",
    "    if rowid in matches or rowid in multiple_matches:\n",
    "        continue\n",
    "    \n",
    "    content1 = row.reviewContent\n",
    "    business_id = row.businessID\n",
    "    \n",
    "    \n",
    "    exact_matches = pd.concat([yc_updated_reviews.loc[hash_to_id[row.reviewHashBOW]], yc_updated_reviews.loc[hash_to_id[row.reviewHashStripped]]]).drop_duplicates()\n",
    "    \n",
    "    \n",
    "    #new_reviews = yc_updated_reviews[yc_updated_reviews.businessID == business_id]\n",
    "    #exact_matches = new_reviews[new_reviews.reviewHash == row.reviewHash]\n",
    "    #exact_matches_LF = new_reviews[new_reviews.reviewHash == row.reviewHash]\n",
    "    #exact_matches_no_LF = new_reviews[new_reviews.reviewHashNoLF == row.reviewHash]\n",
    "#     new_reviews = yc_updated_reviews_indexed.loc[business_id]\n",
    "#     try:\n",
    "#         exact_matches_no_LF = new_reviews.loc[(slice(None),row.reviewHash)]\n",
    "#     except:\n",
    "#         exact_matches_no_LF = pd.DataFrame()\n",
    "#     try:\n",
    "#         exact_matches_LF = new_reviews.loc[(row.reviewHash,slice(None))]\n",
    "#     except:\n",
    "#         exact_matches_LF = pd.DataFrame()\n",
    "    #exact_matches = pd.concat([exact_matches_LF,exact_matches_no_LF])\n",
    "    \n",
    "    if len(exact_matches) == 0:\n",
    "        no_matches.append(rowid)\n",
    "        \n",
    "        continue\n",
    "        \n",
    "        closest = None\n",
    "        closest_sc = 0\n",
    "        \n",
    "        new_reviews = yc_updated_reviews[yc_updated_reviews.businessID == business_id]\n",
    "        \n",
    "        for rowid2, row2 in new_reviews.iterrows():\n",
    "            content2 = row2.content\n",
    "            score = compare_reviews(content1,content2)\n",
    "            if score > closest_sc:\n",
    "                closest = rowid2\n",
    "                closest_sc = score\n",
    "                if score == 1:\n",
    "                    break\n",
    "        if closest_sc < 90:\n",
    "            continue\n",
    "    elif len(exact_matches) == 1:\n",
    "        closest = exact_matches.index[0]\n",
    "        closest_sc = 1\n",
    "    else:\n",
    "        for matchid, match in exact_matches.iterrows():\n",
    "            try:\n",
    "                reviewer_name = yc_reviewers.loc[row.reviewerID].name\n",
    "            except KeyError:\n",
    "                reviewer_name = None\n",
    "            if match.date == row.date or match.user_name == reviewer_name:\n",
    "                closest = matchid\n",
    "                closest_sc = 1\n",
    "                break\n",
    "        multiple_matches[rowid] = row,exact_matches\n",
    "        continue\n",
    "        \n",
    "    matches[rowid] = closest\n",
    "    matches_sc[rowid] = closest_sc"
   ]
  },
  {
   "cell_type": "code",
   "execution_count": null,
   "metadata": {},
   "outputs": [],
   "source": [
    "key = random.choice(list(multiple_matches.keys()))\n",
    "print(key)\n",
    "display(pd.DataFrame(multiple_matches[key][0]).transpose())\n",
    "display(multiple_matches[key][1])"
   ]
  },
  {
   "cell_type": "code",
   "execution_count": null,
   "metadata": {},
   "outputs": [],
   "source": [
    "yc_reviews[\"matchID\"] = pd.Series([matches[rowid] if rowid in matches else None for rowid in yc_reviews.index.values])\n",
    "yc_reviews[\"match_score\"] = pd.Series([matches_sc[rowid] if rowid in matches_sc else None for rowid in yc_reviews.index.values])"
   ]
  },
  {
   "cell_type": "markdown",
   "metadata": {},
   "source": [
    "#### Are there obvious false positives?"
   ]
  },
  {
   "cell_type": "code",
   "execution_count": null,
   "metadata": {},
   "outputs": [],
   "source": [
    "def username_matches(row):\n",
    "    if math.isnan(row.matchID):\n",
    "        print(\"Null match ID\")\n",
    "        return None\n",
    "    match = yc_updated_reviews.loc[row.matchID]\n",
    "    try:\n",
    "        username = yc_reviewers.loc[row.reviewerID].name\n",
    "    except KeyError:\n",
    "        print(f\"No name for {row.reviewerID}\")\n",
    "        return None\n",
    "    return match.user_name == username\n",
    "\n",
    "def date_matches(row):\n",
    "    if math.isnan(row.matchID):\n",
    "        return None\n",
    "    match = yc_updated_reviews.loc[row.matchID]\n",
    "    return match.date == row.date\n",
    "\n",
    "def business_matches(row):\n",
    "    if math.isnan(row.matchID):\n",
    "        return None\n",
    "    match = yc_updated_reviews.loc[row.matchID]\n",
    "    return match.businessID == row.businessID\n",
    "\n",
    "display(pd.DataFrame(yc_reviews.apply(date_matches, axis=1)).groupby(0).size())\n",
    "display(pd.DataFrame(yc_reviews.apply(business_matches, axis=1)).groupby(0).size())\n",
    "display(pd.DataFrame((yc_reviews.apply(date_matches, axis=1) | yc_reviews.apply(business_matches, axis=1))).groupby(0).size())"
   ]
  },
  {
   "cell_type": "markdown",
   "metadata": {},
   "source": [
    "#### Are there double matches?"
   ]
  },
  {
   "cell_type": "code",
   "execution_count": null,
   "metadata": {},
   "outputs": [],
   "source": [
    "pd.DataFrame(yc_reviews.groupby(\"matchID\").size()).groupby(0).size()"
   ]
  },
  {
   "cell_type": "markdown",
   "metadata": {},
   "source": [
    "Very few"
   ]
  },
  {
   "cell_type": "code",
   "execution_count": null,
   "metadata": {},
   "outputs": [],
   "source": [
    "reject_reviews = yc_reviews.loc[no_matches]\n",
    "reject_reviews.groupby(\"flagged\").size(), yc_reviews[yc_reviews.matchID.notnull()].groupby(\"flagged\").size(), yc_reviews.groupby(\"flagged\").size()"
   ]
  },
  {
   "cell_type": "code",
   "execution_count": null,
   "metadata": {},
   "outputs": [],
   "source": [
    "matched_updated = yc_updated_reviews.loc[matches.values()]\n",
    "yc_reviews_at_time = yc_updated_reviews[yc_updated_reviews.date < yc_reviews.date.max()]\n",
    "unmatched_updated = yc_reviews_at_time.loc[set(yc_reviews_at_time.index.values) - set(matches.values()) ]"
   ]
  },
  {
   "cell_type": "code",
   "execution_count": null,
   "metadata": {},
   "outputs": [],
   "source": [
    "unmatched_updated.groupby(\"flagged\").size(), matched_updated.groupby(\"flagged\").size(), yc_reviews_at_time.groupby(\"flagged\").size()"
   ]
  },
  {
   "cell_type": "code",
   "execution_count": null,
   "metadata": {},
   "outputs": [],
   "source": [
    "reject_sample = reject_reviews.sample(100)"
   ]
  },
  {
   "cell_type": "code",
   "execution_count": null,
   "metadata": {},
   "outputs": [],
   "source": []
  },
  {
   "cell_type": "code",
   "execution_count": null,
   "metadata": {},
   "outputs": [],
   "source": [
    "max_width = max((len(i) for i in reject_sample.reviewerID))\n",
    "x=0\n",
    "print(\"\\n\".join(f\"{str((x := x+1)).rjust(3,' ')}. {s.reviewerID}|{s.reviewContent[:100].ljust(100,' ')}|{i}\" for i,s in reject_sample.iterrows()))"
   ]
  },
  {
   "cell_type": "markdown",
   "metadata": {},
   "source": [
    "#### Mismatches:\n",
    "12: Review was modified\n",
    "\n",
    "18: Review exists but was not collected\n"
   ]
  },
  {
   "cell_type": "code",
   "execution_count": null,
   "metadata": {},
   "outputs": [],
   "source": [
    "s1 = reject_reviews.loc[4310]\n",
    "review1 = s1.reviewContent\n",
    "print(s1.businessID)\n",
    "print(review1)\n",
    "\n",
    "display(Markdown(\"---\"))\n",
    "\n",
    "sel = None\n",
    "for review in review1:\n",
    "    selO = yc_updated_reviews.content.str.startswith(str(review[:50]))\n",
    "    if sel is None:\n",
    "        sel = selO\n",
    "    else:\n",
    "        sel |= selO\n",
    "s2 = yc_updated_reviews[sel]\n",
    "review2 = s2.content\n",
    "print(review2)"
   ]
  },
  {
   "cell_type": "markdown",
   "metadata": {},
   "source": [
    "#### Review 54217 is a strange case -- manual inspection reveals the review does not exist flipping through the pages, but it can be found by searching"
   ]
  },
  {
   "cell_type": "code",
   "execution_count": null,
   "metadata": {},
   "outputs": [],
   "source": [
    "sns.distplot(unmatched_updated.groupby(\"businessID\").size().sort_values())"
   ]
  },
  {
   "cell_type": "code",
   "execution_count": null,
   "metadata": {},
   "outputs": [],
   "source": [
    "for i, m in multiple_matches.items():\n",
    "    display(i)\n",
    "    for x in m:\n",
    "        display(x)\n",
    "    display(Markdown(\"---\"))"
   ]
  },
  {
   "cell_type": "markdown",
   "metadata": {},
   "source": [
    "# Add features to business files"
   ]
  },
  {
   "cell_type": "code",
   "execution_count": null,
   "metadata": {},
   "outputs": [],
   "source": [
    "#yc_reviews.matchID\n",
    "\n",
    "#yc_updated_reviews\n",
    "\n",
    "def get_change_type(row):\n",
    "    oldFil = row.flagged\n",
    "    if math.isnan(row.matchID):\n",
    "        newFil = \"X\"\n",
    "    else:\n",
    "        match = yc_updated_reviews.loc[row.matchID]\n",
    "        newFil = match.flagged\n",
    "    \n",
    "    return f\"change_{oldFil}{newFil}\"\n",
    "\n",
    "def get_changes_columns(row):\n",
    "    old_reviews = yc_reviews[yc_reviews.businessID == row.name]\n",
    "    return pd.DataFrame(old_reviews.apply(get_change_type,axis=1)).groupby(0).size()\n",
    "    \n",
    "change_columns = yc_businesses.apply(get_changes_columns,axis=1).fillna(0)"
   ]
  },
  {
   "cell_type": "code",
   "execution_count": null,
   "metadata": {},
   "outputs": [],
   "source": [
    "change_columns.sum()"
   ]
  },
  {
   "cell_type": "code",
   "execution_count": null,
   "metadata": {},
   "outputs": [],
   "source": [
    "def normalize_changes(row):\n",
    "    total = sum(row)\n",
    "    return pd.Series([row[colname]/total for colname in row.index.values], index=[f\"{colname}_ratio\" for colname in row.index.values])\n",
    "    \n",
    "        \n",
    "change_columns_perc = change_columns.apply(normalize_changes,axis=1)"
   ]
  },
  {
   "cell_type": "code",
   "execution_count": null,
   "metadata": {},
   "outputs": [],
   "source": [
    "change_columns_perc.sort_values(\"change_NY_ratio\")"
   ]
  },
  {
   "cell_type": "code",
   "execution_count": null,
   "metadata": {},
   "outputs": [],
   "source": [
    "yc_businesses_updated = pd.concat([yc_businesses, change_columns, change_columns_perc],axis=1)"
   ]
  },
  {
   "cell_type": "markdown",
   "metadata": {},
   "source": [
    "# Save "
   ]
  },
  {
   "cell_type": "code",
   "execution_count": null,
   "metadata": {},
   "outputs": [],
   "source": [
    "yc_reviews.to_pickle(\"../data/pickles/yelpchi_reviews.pkl\")\n",
    "yc_updated_reviews.to_pickle(\"../data/pickles/yelpchi_updated_reviews.pkl\")\n",
    "yc_businesses_updated.to_pickle(\"../data/pickles/yelpchi_businesses.pkl\")"
   ]
  },
  {
   "cell_type": "code",
   "execution_count": null,
   "metadata": {},
   "outputs": [],
   "source": []
  }
 ],
 "metadata": {
  "kernelspec": {
   "display_name": "Python 3",
   "language": "python",
   "name": "python3"
  },
  "language_info": {
   "codemirror_mode": {
    "name": "ipython",
    "version": 3
   },
   "file_extension": ".py",
   "mimetype": "text/x-python",
   "name": "python",
   "nbconvert_exporter": "python",
   "pygments_lexer": "ipython3",
   "version": "3.9.6"
  }
 },
 "nbformat": 4,
 "nbformat_minor": 4
}
