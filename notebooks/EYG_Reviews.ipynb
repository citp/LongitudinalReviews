{
 "cells": [
  {
   "cell_type": "code",
   "execution_count": null,
   "metadata": {},
   "outputs": [],
   "source": [
    "import json\n",
    "import os\n",
    "import re\n",
    "import traceback\n",
    "\n",
    "import math\n",
    "import scipy\n",
    "import scipy.stats\n",
    "import numpy as np\n",
    "\n",
    "import pyzipcode\n",
    "import hashlib\n",
    "\n",
    "import matplotlib.pyplot as plt\n",
    "import seaborn as sns\n",
    "from IPython.display import Markdown\n",
    "from IPython.display import HTML\n",
    "from tqdm import tqdm\n",
    "\n",
    "import sqlite3\n",
    "import pandas as pd\n",
    "import nltk\n",
    "\n",
    "import itertools\n",
    "import collections\n",
    "import functools\n",
    "import collections\n",
    "\n",
    "\n",
    "import statsmodels.stats.multitest as multitest\n",
    "import statsmodels.api as sm\n",
    "\n"
   ]
  },
  {
   "cell_type": "code",
   "execution_count": null,
   "metadata": {},
   "outputs": [],
   "source": [
    "sns.set_style(style=\"whitegrid\")"
   ]
  },
  {
   "cell_type": "code",
   "execution_count": null,
   "metadata": {},
   "outputs": [],
   "source": [
    "yc_reviews = pd.read_pickle(\"../data/pickles/yelpchi_reviews.pkl\")\n",
    "yc_updated_reviews = pd.read_pickle(\"../data/pickles/yelpchi_updated_reviews.pkl\")\n",
    "yc_businesses = pd.read_pickle(\"../data/pickles/yelpchi_business_data_with_distances.pkl\")\n",
    "business_data = pd.read_pickle(\"../data/pickles/yelpchi_businesses.pkl\")"
   ]
  },
  {
   "cell_type": "code",
   "execution_count": null,
   "metadata": {},
   "outputs": [],
   "source": [
    "len(yc_reviews.businessID.unique())"
   ]
  },
  {
   "cell_type": "code",
   "execution_count": null,
   "metadata": {},
   "outputs": [],
   "source": [
    "business_data.yc_type.value_counts()"
   ]
  },
  {
   "cell_type": "markdown",
   "metadata": {},
   "source": [
    "## Question: is the data hovercard ID a unique identifier per user?"
   ]
  },
  {
   "cell_type": "code",
   "execution_count": null,
   "metadata": {},
   "outputs": [],
   "source": [
    "matches = yc_reviews[yc_reviews.matchID.notnull()].apply(lambda row: pd.Series([row.matchID, row.reviewerID, yc_updated_reviews.loc[row.matchID].reviewerID]), axis=1)\n",
    "matches"
   ]
  },
  {
   "cell_type": "code",
   "execution_count": null,
   "metadata": {},
   "outputs": [],
   "source": [
    "matches[matches[2].isnull()][1].apply(lambda revId: pd.Series([revId, len(yc_reviews[yc_reviews.reviewerID == revId])])).sort_values([1])"
   ]
  },
  {
   "cell_type": "code",
   "execution_count": null,
   "metadata": {},
   "outputs": [],
   "source": [
    "yc_reviews[yc_reviews.matchID.notnull() & (yc_reviews.reviewerID == \"QZrC4uhuZCwt9uXeg9uwnA\")].matchID.apply(lambda x: yc_updated_reviews.loc[x])"
   ]
  },
  {
   "cell_type": "markdown",
   "metadata": {},
   "source": [
    "#### Answer -- YES! Although it doesn't match the user ID"
   ]
  },
  {
   "cell_type": "markdown",
   "metadata": {},
   "source": [
    "## How many of the reviews for which we've crawled the restaurants do we have an exact match?"
   ]
  },
  {
   "cell_type": "code",
   "execution_count": null,
   "metadata": {},
   "outputs": [],
   "source": [
    "yc_reviews_we_have = yc_reviews[yc_reviews.businessID.isin(yc_updated_reviews.businessID.unique())]"
   ]
  },
  {
   "cell_type": "code",
   "execution_count": null,
   "metadata": {},
   "outputs": [],
   "source": [
    "print(yc_reviews_we_have.groupby(\"flagged\").size())\n",
    "print(yc_reviews.groupby(\"flagged\").size())"
   ]
  },
  {
   "cell_type": "code",
   "execution_count": null,
   "metadata": {},
   "outputs": [],
   "source": [
    "yc_updated_reviews[\"year\"] = yc_updated_reviews.date.apply(lambda d: d.year)"
   ]
  },
  {
   "cell_type": "code",
   "execution_count": null,
   "metadata": {},
   "outputs": [],
   "source": [
    "yc_reviews.groupby(\"flagged\").size().loc[\"Y\"] / len(yc_reviews),yc_updated_reviews.groupby(\"flagged\").size().loc[\"Y\"] / len(yc_updated_reviews),yc_updated_reviews[yc_updated_reviews.year<=2012].groupby(\"flagged\").size().loc[\"Y\"] / len(yc_updated_reviews)"
   ]
  },
  {
   "cell_type": "code",
   "execution_count": null,
   "metadata": {},
   "outputs": [],
   "source": [
    "len(yc_reviews_we_have), len(yc_reviews)"
   ]
  },
  {
   "cell_type": "code",
   "execution_count": null,
   "metadata": {},
   "outputs": [],
   "source": [
    "len(yc_reviews_we_have[yc_reviews_we_have.matchID.isnull()]), len(yc_reviews_we_have)"
   ]
  },
  {
   "cell_type": "markdown",
   "metadata": {},
   "source": [
    "#### Not enough"
   ]
  },
  {
   "cell_type": "markdown",
   "metadata": {},
   "source": [
    "# Question: Can we match filtered and recommended review's users?"
   ]
  },
  {
   "cell_type": "code",
   "execution_count": null,
   "metadata": {},
   "outputs": [],
   "source": [
    "\n",
    "reviews_with_user_id = yc_updated_reviews[yc_updated_reviews.user_page_url.notnull()]\n",
    "\n",
    "name_matches = collections.defaultdict(set)\n",
    "name_matches_exact = collections.defaultdict(set)\n",
    "\n",
    "out_of = len(yc_updated_reviews[yc_updated_reviews.user_page_url.isnull()])\n",
    "\n",
    "for rowid, row in tqdm(yc_updated_reviews[yc_updated_reviews.user_page_url.isnull()].iterrows(), total=out_of):\n",
    "    user_name = row.user_name\n",
    "    user_friends = row.user_friends\n",
    "    user_photos = row.user_photos\n",
    "    user_reviews = row.user_review_count\n",
    "    user_location = row.user_location\n",
    "    m = reviews_with_user_id[\n",
    "        (reviews_with_user_id.user_name == user_name) &\n",
    "        (reviews_with_user_id.user_location == user_location) &\n",
    "        ((reviews_with_user_id.user_friends - user_friends).abs() <= 1) &\n",
    "        ((reviews_with_user_id.user_photos - user_photos).abs() <= 1) &\n",
    "        ((reviews_with_user_id.user_review_count - user_reviews).abs() <= 1)\n",
    "    ]\n",
    "    m_exact = m[\n",
    "        (m.user_name == user_name) &\n",
    "        (m.user_location == user_location) &\n",
    "        ((m.user_friends - user_friends).abs() == 0) &\n",
    "        ((m.user_photos - user_photos).abs() == 0) &\n",
    "        ((m.user_review_count - user_reviews).abs() == 0)\n",
    "    ]\n",
    "    if len(m) > 0:\n",
    "        name_matches[row.data_hovercard_id].update(m.reviewerID)\n",
    "        name_matches_exact[row.data_hovercard_id].update(m_exact.reviewerID)\n",
    "        #if len(name_matches) < 10:\n",
    "        #    display(pd.concat([yc_updated_reviews[yc_updated_reviews.data_hovercard_id == row.data_hovercard_id],m]))\n",
    "        #    display(Markdown('<hr style=\"height:8px;border-width:0;color:gray;background-color:red\">'))\n",
    "    else:\n",
    "        name_matches[row.data_hovercard_id].update([])\n",
    "        name_matches_exact[row.data_hovercard_id].update([])\n",
    "            \n",
    "print(f\"Found {len(name_matches)} approximate and {len(name_matches_exact)} exact matches.\")"
   ]
  },
  {
   "cell_type": "code",
   "execution_count": null,
   "metadata": {},
   "outputs": [],
   "source": [
    "num_matches = pd.Series([len(l) for l in name_matches.values()])\n",
    "num_matches_exact = pd.Series([len(name_matches_exact[l]) for l in name_matches.keys()])\n",
    "bins=list(set(num_matches) | set(num_matches_exact))\n",
    "sns.distplot(num_matches,bins=bins,label=\"Approximate matches\",kde=False)\n",
    "sns.distplot(num_matches_exact,bins=bins,label=\"Exact matches\",kde=False)\n",
    "print(num_matches.value_counts())\n",
    "print(num_matches_exact.value_counts())"
   ]
  },
  {
   "cell_type": "code",
   "execution_count": null,
   "metadata": {},
   "outputs": [],
   "source": [
    "num_matches_exact.value_counts()[1]"
   ]
  },
  {
   "cell_type": "code",
   "execution_count": null,
   "metadata": {},
   "outputs": [],
   "source": [
    "updated_recommended_reviewers = len(yc_updated_reviews[yc_updated_reviews.user_page_url.notnull()].reviewerID.unique())\n",
    "updated_filtered_reviewers = len(yc_updated_reviews[yc_updated_reviews.user_page_url.isnull()].data_hovercard_id.unique())\n",
    "\n",
    "original_recommended_reviewers = len(yc_reviews[yc_reviews.flagged == \"N\"].reviewerID.unique())\n",
    "original_filtered_reviewers = len(yc_reviews[yc_reviews.flagged == \"Y\"].reviewerID.unique())\n",
    "\n",
    "updated_dual_reviewers = num_matches_exact.value_counts()[1]#yc_updated_reviews.groupby(\"reviewerID\").apply(lambda df: bool(len(df[df.flagged == \"N\"]) != 0 and len(df[df.flagged == \"Y\"]))).value_counts()[True]\n",
    "original_dual_reviewers = yc_reviews.groupby(\"reviewerID\").apply(lambda df: bool(len(df[df.flagged == \"N\"]) != 0 and len(df[df.flagged == \"Y\"]))).value_counts()[True]\n",
    "\n",
    "print(f\"\"\"Filtered reviewers (original/updated): {original_filtered_reviewers}/{updated_filtered_reviewers}\n",
    "Recommended reviewers (original/updated): {original_recommended_reviewers}/{updated_recommended_reviewers}\n",
    "Dual reviewers (original/updated): {original_dual_reviewers}/{updated_dual_reviewers}\n",
    "Total reviewers (original/updated): {len(yc_reviews.reviewerID.unique())}/{len(yc_updated_reviews.reviewerID.unique())} to {len(yc_updated_reviews.reviewerID.unique()) + len(yc_updated_reviews.data_hovercard_id.unique())}\n",
    "\"\"\")"
   ]
  },
  {
   "cell_type": "markdown",
   "metadata": {},
   "source": [
    "## Looking at unmatched reviews"
   ]
  },
  {
   "cell_type": "code",
   "execution_count": null,
   "metadata": {},
   "outputs": [],
   "source": [
    "unmatched_reviews = yc_reviews_we_have[yc_reviews_we_have.matchID.isnull()]\n",
    "len(unmatched_reviews[unmatched_reviews.flagged == \"Y\"]) / len(unmatched_reviews)"
   ]
  },
  {
   "cell_type": "markdown",
   "metadata": {},
   "source": [
    "# Question: How much churn is there between filtered and recommended?"
   ]
  },
  {
   "cell_type": "code",
   "execution_count": null,
   "metadata": {},
   "outputs": [],
   "source": [
    "yc_matched = yc_reviews_we_have[yc_reviews_we_have.matchID.notnull()]"
   ]
  },
  {
   "cell_type": "code",
   "execution_count": null,
   "metadata": {},
   "outputs": [],
   "source": [
    "len(yc_matched), len(yc_updated_reviews) - len(yc_matched), len(unmatched_reviews)"
   ]
  },
  {
   "cell_type": "code",
   "execution_count": null,
   "metadata": {},
   "outputs": [],
   "source": [
    "#Capture percentage\n",
    "len(yc_matched)/len(yc_reviews_we_have)"
   ]
  },
  {
   "cell_type": "code",
   "execution_count": null,
   "metadata": {},
   "outputs": [],
   "source": [
    "#Filtered percentage\n",
    "len(yc_matched[yc_matched.flagged == \"Y\"]) / len(yc_matched)"
   ]
  },
  {
   "cell_type": "code",
   "execution_count": null,
   "metadata": {},
   "outputs": [],
   "source": [
    "#Different approach to this\n",
    "rows = []\n",
    "for rowid, row in tqdm(yc_matched.iterrows(),total=len(yc_matched)):\n",
    "    f1 = row.flagged\n",
    "    f2 = yc_updated_reviews.loc[row.matchID,].flagged\n",
    "    elite = yc_updated_reviews.loc[row.matchID,].elite == True\n",
    "    d = row.date\n",
    "    #df_matches = df_matches.append([d,f1,f2,elite])\n",
    "    rows.append([rowid,d,f1,f2,elite])\n",
    "    \n",
    "\n",
    "df_matches = pd.DataFrame(rows,columns=[\"rowid\",\"date\",\"f1\",\"f2\",\"elite\"])"
   ]
  },
  {
   "cell_type": "code",
   "execution_count": null,
   "metadata": {},
   "outputs": [],
   "source": [
    "df_matches[\"year\"] = df_matches.date.apply(lambda d: d.year)"
   ]
  },
  {
   "cell_type": "code",
   "execution_count": null,
   "metadata": {},
   "outputs": [],
   "source": [
    "def get_fisher_table(df,year):\n",
    "    vals = []\n",
    "    for f1,f2 in ((\"N\",\"N\"),(\"N\",\"Y\"),(\"Y\",\"N\"),(\"Y\",\"Y\")):\n",
    "        try:\n",
    "            v = df.loc[(year,f1,f2),\"ct\"]\n",
    "        except KeyError:\n",
    "            v = 0\n",
    "        vals.append(v)\n",
    "    return np.array(vals).reshape(2,2)"
   ]
  },
  {
   "cell_type": "code",
   "execution_count": null,
   "metadata": {},
   "outputs": [],
   "source": [
    "param_ar = []\n",
    "for year, df in df_matches.groupby([\"year\",\"f1\",\"f2\"]).size().rename(\"ct\").reset_index().groupby(\"year\"):\n",
    "    #display(df)\n",
    "    df = df.set_index([\"year\",\"f1\",\"f2\"])\n",
    "    df[\"perc\"] = df.ct / df.ct.sum()\n",
    "    #df[\"exp_perc\"] = overall_percs[df.index.droplevel(\"year\")].to_numpy()\n",
    "    print(year)\n",
    "    display(df)\n",
    "    \n",
    "    try:\n",
    "        p = df.loc[(year,\"Y\"),\"ct\"].sum() / df.ct.sum()\n",
    "    except:\n",
    "        p = 0\n",
    "    a = df.loc[(year,\"N\",\"Y\"),\"ct\"] / df.loc[(year,\"N\"),\"ct\"].sum()\n",
    "    try:\n",
    "        b = df.loc[(year,\"Y\",\"N\"),\"ct\"] / df.loc[(year,\"Y\"),\"ct\"].sum()\n",
    "    except:\n",
    "        b = None\n",
    "    param_ar.append((year,\"% Not Recommended (2012)\",p))\n",
    "    param_ar.append((year,\"% Recommended -> Not Recommended\",a))\n",
    "    param_ar.append((year,\"% Not Recommended -> Recommended\",b))\n",
    "    \n",
    "    obs = df.ct.to_numpy()\n",
    "    #exp = (overall_percs[df.index.droplevel(\"year\")] * df.ct.sum()).to_numpy()\n",
    "    print(obs)\n",
    "    #print(exp)\n",
    "    obs_fisher = get_fisher_table(df,year)\n",
    "    \n",
    "    #display(scipy.stats.chisquare(obs,exp))\n",
    "    display(scipy.stats.fisher_exact(obs_fisher))"
   ]
  },
  {
   "cell_type": "code",
   "execution_count": null,
   "metadata": {},
   "outputs": [],
   "source": [
    "df_params = pd.DataFrame(param_ar, columns=[\"year\",\"param\",\"value\"])\n",
    "fig = sns.lineplot(x=\"year\",y=\"value\",data=df_params,hue=\"param\")\n",
    "plt.ylim(0,1)\n",
    "plt.ylabel(\"Percentage of reviews\")\n",
    "plt.xlabel(\"Review year\")\n",
    "\n",
    "\n",
    "fig.get_figure().savefig(\"../graphs/filtering_changes.pdf\")"
   ]
  },
  {
   "cell_type": "code",
   "execution_count": null,
   "metadata": {},
   "outputs": [],
   "source": [
    "\n",
    "flagged_yy = 0\n",
    "flagged_nn = 0\n",
    "flagged_yn = 0\n",
    "flagged_ny = 0\n",
    "elite_yy = 0\n",
    "elite_nn = 0\n",
    "elite_yn = 0\n",
    "elite_ny = 0\n",
    "\n",
    "flag_change = None\n",
    "for rowid, row in tqdm(yc_matched.iterrows(),total=len(yc_matched)):\n",
    "    f1 = row.flagged\n",
    "    f2 = yc_updated_reviews.loc[row.matchID,].flagged\n",
    "    elite = yc_updated_reviews.loc[row.matchID,].elite == True\n",
    "    if f1 == \"Y\" and f2 == \"Y\":\n",
    "        flagged_yy += 1\n",
    "        if elite:\n",
    "            elite_yy += 1\n",
    "    elif f1 == \"N\" and f2 == \"Y\":\n",
    "        flagged_ny += 1\n",
    "        if elite:\n",
    "            elite_ny += 1\n",
    "    elif f1 == \"Y\" and f2 == \"N\":\n",
    "        flagged_yn += 1\n",
    "        if elite:\n",
    "            elite_yn += 1\n",
    "    elif f1 == \"N\" and f2 == \"N\":\n",
    "        flagged_nn += 1\n",
    "        if elite:\n",
    "            elite_nn += 1\n",
    "    else:\n",
    "        print(f1,f2)\n",
    "        break"
   ]
  },
  {
   "cell_type": "code",
   "execution_count": null,
   "metadata": {},
   "outputs": [],
   "source": [
    "data = pd.DataFrame([(flagged_nn,\"n\",\"n\"),(flagged_yn,\"y\",\"n\"),(flagged_ny,\"n\",\"y\"),(flagged_yy,\"y\",\"y\")],columns=[\"Count\",\"FlaggedOriginal\",\"FlaggedNew\"])"
   ]
  },
  {
   "cell_type": "code",
   "execution_count": null,
   "metadata": {},
   "outputs": [],
   "source": [
    "data"
   ]
  },
  {
   "cell_type": "code",
   "execution_count": null,
   "metadata": {},
   "outputs": [],
   "source": [
    "print(flagged_yy,flagged_nn,flagged_yn,flagged_ny)"
   ]
  },
  {
   "cell_type": "markdown",
   "metadata": {},
   "source": [
    "## Why do we see so much churn?"
   ]
  },
  {
   "cell_type": "markdown",
   "metadata": {},
   "source": [
    "#### Is the churn from people becoming elite?"
   ]
  },
  {
   "cell_type": "code",
   "execution_count": null,
   "metadata": {},
   "outputs": [],
   "source": [
    "len(yc_updated_reviews[yc_updated_reviews.elite == True]), len(yc_updated_reviews), len(yc_updated_reviews[yc_updated_reviews.elite == True]) / len(yc_updated_reviews)"
   ]
  },
  {
   "cell_type": "code",
   "execution_count": null,
   "metadata": {},
   "outputs": [],
   "source": [
    "print(elite_yy,elite_nn,elite_yn,elite_ny)\n",
    "print(elite_yy/flagged_yy,elite_nn/flagged_nn,elite_yn/flagged_yn,elite_ny/flagged_ny)"
   ]
  },
  {
   "cell_type": "markdown",
   "metadata": {},
   "source": [
    "#### No -- clearly not"
   ]
  },
  {
   "cell_type": "markdown",
   "metadata": {},
   "source": [
    "# Do Elites disproportionately influence rating?"
   ]
  },
  {
   "cell_type": "code",
   "execution_count": null,
   "metadata": {},
   "outputs": [],
   "source": [
    "average_rating = yc_updated_reviews[yc_updated_reviews.flagged == \"N\"].groupby(\"businessID\").rating.mean().rename(\"Average rating\")\n",
    "elite_rating = yc_updated_reviews[(yc_updated_reviews.elite == True) & (yc_updated_reviews.flagged == \"N\")].groupby(\"businessID\").rating.mean().rename(\"Elite rating\")\n",
    "actual_rating = business_data.groupby(\"id\").rating.mean().rename(\"Actual rating\")"
   ]
  },
  {
   "cell_type": "code",
   "execution_count": null,
   "metadata": {},
   "outputs": [],
   "source": [
    "ratings = pd.concat([average_rating,actual_rating,elite_rating],axis=1)\n",
    "ratings"
   ]
  },
  {
   "cell_type": "code",
   "execution_count": null,
   "metadata": {},
   "outputs": [],
   "source": [
    "ratings[\"average_diff\"] = (ratings[\"Average rating\"] - ratings[\"Actual rating\"]).abs()\n",
    "ratings[\"elite_diff\"] = (ratings[\"Elite rating\"] - ratings[\"Actual rating\"]).abs()"
   ]
  },
  {
   "cell_type": "code",
   "execution_count": null,
   "metadata": {},
   "outputs": [],
   "source": [
    "ratings[ratings[\"Average rating\"].notnull()]"
   ]
  },
  {
   "cell_type": "markdown",
   "metadata": {},
   "source": [
    "#### No"
   ]
  },
  {
   "cell_type": "code",
   "execution_count": null,
   "metadata": {},
   "outputs": [],
   "source": [
    "print(\",\".join(list(yc_businesses)))"
   ]
  },
  {
   "cell_type": "code",
   "execution_count": null,
   "metadata": {},
   "outputs": [],
   "source": [
    "df = ratings[ratings[\"Average rating\"].notnull() & ratings[\"Elite rating\"].notnull()]\n",
    "\n",
    "scipy.stats.pearsonr(df[\"Elite rating\"] - df[\"Average rating\"], yc_businesses.loc[df.index].rating)"
   ]
  },
  {
   "cell_type": "code",
   "execution_count": null,
   "metadata": {},
   "outputs": [],
   "source": [
    "fig = sns.scatterplot(x=df[\"Average rating\"],y=df[\"Elite rating\"] - df[\"Average rating\"])\n",
    "plt.ylabel(\"Elite rating - average rating\")"
   ]
  },
  {
   "cell_type": "code",
   "execution_count": null,
   "metadata": {},
   "outputs": [],
   "source": [
    "#df[df[\"Average rating\"].notna() & df[\"Filtered rating\"].notna()].sort_values(\"Average rating\")"
   ]
  },
  {
   "cell_type": "code",
   "execution_count": null,
   "metadata": {},
   "outputs": [],
   "source": [
    "\n",
    "\n",
    "\n",
    "average_rating_start = yc_reviews.groupby(\"businessID\").apply(lambda df: df[df.flagged == \"N\"].rating.mean()).rename(\"Recommended rating\")\n",
    "filtered_rating_start = yc_reviews.groupby(\"businessID\").apply(lambda df: df[df.flagged == \"Y\"].rating.mean()).rename(\"Filtered rating\")\n",
    "df = pd.concat([average_rating_start, filtered_rating_start],axis=1)\n",
    "df_no_na = df[df[\"Recommended rating\"].notna() & df[\"Filtered rating\"].notna()]\n",
    "average_rating_start = df_no_na[\"Recommended rating\"]\n",
    "filtered_rating_start = df_no_na[\"Filtered rating\"]\n",
    "sns.scatterplot(x=\"Recommended rating\", y=\"Filtered rating\",data=df_no_na,alpha=0.5,marker=\"+\")\n",
    "\n",
    "average_rating_updated = ratings[ratings[\"Average rating\"].notnull()][\"Average rating\"].rename(\"Recommended rating\")\n",
    "filtered_rating_updated = yc_updated_reviews[yc_updated_reviews.flagged == \"Y\"].groupby(\"businessID\").rating.mean().rename(\"Filtered rating\")\n",
    "sns.scatterplot(x=average_rating_updated, y=filtered_rating_updated,alpha=0.5,marker=\"+\")\n",
    "\n",
    "x=np.arange(0,6,1)\n",
    "y1=[1.9588 + 0.5063 * x for x in x]\n",
    "# y2 = [1.005757 * x for x in x]\n",
    "sns.lineplot(x=x,y=y1,label=\"Original data\\n(Linear fit $R^2=0.511$)\")\n",
    "\n",
    "x=np.arange(0,6,1)\n",
    "y1=[1.577581 + 0.588753 * x for x in x]\n",
    "# y2 = [1.005757 * x for x in x]\n",
    "fig = sns.lineplot(x=x,y=y1,label=\"New data\\n(Linear fit $R^2=0.572$)\")\n",
    "\n",
    "\n",
    "plt.xlim(1,5)\n",
    "plt.ylim(1,5)\n",
    "\n",
    "\n",
    "fig.legend(framealpha=0.25)\n",
    "\n",
    "plt.show()\n",
    "\n",
    "fig.get_figure().savefig(\"../graphs/filtered_vs_rec_rating.png\")\n",
    "\n",
    "\n",
    "display(\"Original correlation:\")\n",
    "display(scipy.stats.pearsonr(average_rating_start,filtered_rating_start))\n",
    "display(\"Updated correlation:\")\n",
    "display(scipy.stats.pearsonr(filtered_rating_updated,average_rating_updated))"
   ]
  },
  {
   "cell_type": "code",
   "execution_count": null,
   "metadata": {},
   "outputs": [],
   "source": [
    "print(\"New data:\")\n",
    "#Proportional\n",
    "X = pd.DataFrame(filtered_rating_updated)\n",
    "y = average_rating_updated\n",
    "model = sm.OLS(y,X)\n",
    "results = model.fit()\n",
    "display(results.params)\n",
    "display(results.summary())\n",
    "\n",
    "#Linear\n",
    "X = pd.DataFrame(filtered_rating_updated)\n",
    "X = sm.add_constant(X)\n",
    "model = sm.OLS(y,X)\n",
    "results = model.fit()\n",
    "display(results.params)\n",
    "display(results.summary())"
   ]
  },
  {
   "cell_type": "code",
   "execution_count": null,
   "metadata": {},
   "outputs": [],
   "source": [
    "print(\"Original data:\")\n",
    "#Proportional\n",
    "X = pd.DataFrame(filtered_rating_start)\n",
    "y = average_rating_start\n",
    "model = sm.OLS(y,X)\n",
    "results = model.fit()\n",
    "display(results.params)\n",
    "display(results.summary())\n",
    "\n",
    "#Linear\n",
    "X = pd.DataFrame(filtered_rating_start)\n",
    "X = sm.add_constant(X)\n",
    "model = sm.OLS(y,X)\n",
    "results = model.fit()\n",
    "display(results.params)\n",
    "display(results.summary())"
   ]
  },
  {
   "cell_type": "code",
   "execution_count": null,
   "metadata": {},
   "outputs": [],
   "source": []
  },
  {
   "cell_type": "markdown",
   "metadata": {},
   "source": [
    "# How does the percentage filtered relate to the number of reviews?"
   ]
  },
  {
   "cell_type": "code",
   "execution_count": null,
   "metadata": {},
   "outputs": [],
   "source": [
    "perc_filtered = pd.concat([yc_reviews_we_have.groupby(\"businessID\").apply(lambda df: len(df[df.flagged == \"Y\"])/len(df)).rename(\"perc_filtered_o\"),\n",
    "                           yc_updated_reviews.groupby(\"businessID\").apply(lambda df: len(df[df.flagged == \"Y\"])/len(df)).rename(\"perc_filtered_n\")], axis=1)"
   ]
  },
  {
   "cell_type": "code",
   "execution_count": null,
   "metadata": {},
   "outputs": [],
   "source": [
    "perc_filtered[\"num_reviews_o\"] = yc_reviews_we_have.groupby(\"businessID\").size()\n",
    "perc_filtered[\"num_reviews_n\"] = yc_updated_reviews.groupby(\"businessID\").size()"
   ]
  },
  {
   "cell_type": "code",
   "execution_count": null,
   "metadata": {},
   "outputs": [],
   "source": [
    "perc_filtered = perc_filtered[perc_filtered.num_reviews_o.notnull()]\n",
    "perc_filtered_no_outliers = perc_filtered[perc_filtered.num_reviews_o > 15]\n",
    "perc_filtered_no_outliers = perc_filtered_no_outliers[((perc_filtered_no_outliers.num_reviews_n < 100) | (perc_filtered_no_outliers.perc_filtered_n != 0.0)) & ((perc_filtered_no_outliers.num_reviews_o < 100) | (perc_filtered_no_outliers.perc_filtered_o != 0.0))]"
   ]
  },
  {
   "cell_type": "code",
   "execution_count": null,
   "metadata": {},
   "outputs": [],
   "source": [
    "print(\"Correlation with outliers (100 or fewer reviews or 0% filtered in either dataset) removed\")\n",
    "print(\"Correlation reviews, filtered (original): %f (p=%f)\" % scipy.stats.pearsonr(perc_filtered_no_outliers.num_reviews_o, perc_filtered_no_outliers.perc_filtered_o))\n",
    "print(\"Correlation reviews, filtered (new): %f (p=%f)\" % scipy.stats.pearsonr(perc_filtered_no_outliers.num_reviews_n, perc_filtered_no_outliers.perc_filtered_n))\n",
    "print(\"Correlation reviews (old), reviews (new): %f (p=%f)\" % scipy.stats.pearsonr(perc_filtered_no_outliers.num_reviews_o, perc_filtered_no_outliers.num_reviews_n))\n",
    "print(\"Correlation filtered (old), filtered (new): %f (p=%f)\" % scipy.stats.pearsonr(perc_filtered_no_outliers.perc_filtered_o, perc_filtered_no_outliers.perc_filtered_n))\n"
   ]
  },
  {
   "cell_type": "code",
   "execution_count": null,
   "metadata": {},
   "outputs": [],
   "source": [
    "sns.distplot(perc_filtered.perc_filtered_o,label=\"2012\",kde_kws={\"clip\":(0,1)})\n",
    "fig = sns.distplot(perc_filtered.perc_filtered_n,label=\"2020\",kde_kws={\"clip\":(0,1)})\n",
    "plt.legend()\n",
    "\n",
    "fig.set_xlabel(\"Percentage Not Recommended\")\n",
    "fig.set_ylabel(\"Probability density\")\n",
    "\n",
    "fig.get_figure().savefig(\"../graphs/filtered_proportion_density.pdf\")\n",
    "\n",
    "print(f\"Median: {perc_filtered.perc_filtered_o.median()}, {perc_filtered.perc_filtered_n.median()}\")\n",
    "print(f\"KS 2 samp: {scipy.stats.ks_2samp(perc_filtered.perc_filtered_n,perc_filtered.perc_filtered_o)}\")"
   ]
  },
  {
   "cell_type": "code",
   "execution_count": null,
   "metadata": {},
   "outputs": [],
   "source": [
    "fig = sns.scatterplot(x=\"num_reviews_o\", y=\"perc_filtered_o\", data=perc_filtered,label=\"2012\", color=\"steelblue\",marker=\"+\")\n",
    "fig = sns.scatterplot(x=\"num_reviews_n\", y=\"perc_filtered_n\", data=perc_filtered,label=\"2020\", color=\"coral\",alpha=0.5,marker=\"+\")\n",
    "plt.xscale(\"log\")\n",
    "fig.set_xlabel(\"Number of reviews\")\n",
    "fig.set_ylabel(\"Percentage Not Recommended\")\n",
    "fig.get_figure().savefig(\"../graphs/filtered_vs_count.pdf\")\n",
    "\n",
    "print(f\"Original correlation: {scipy.stats.spearmanr(perc_filtered.num_reviews_o,perc_filtered.perc_filtered_o)}\\nNew correlation:{scipy.stats.spearmanr(perc_filtered.num_reviews_n,perc_filtered.perc_filtered_n)}\")"
   ]
  },
  {
   "cell_type": "code",
   "execution_count": null,
   "metadata": {},
   "outputs": [],
   "source": [
    "fig = sns.scatterplot(x=\"num_reviews_n\", y=\"perc_filtered_n\", data=perc_filtered,label=\"New\", color=\"coral\")\n",
    "fig = sns.scatterplot(x=\"num_reviews_o\", y=\"perc_filtered_o\", data=perc_filtered,label=\"Original\", color=\"steelblue\")\n",
    "fig.get_figure().savefig(\"../graphs/num_reviews_vs_perc_filtered.png\")"
   ]
  },
  {
   "cell_type": "code",
   "execution_count": null,
   "metadata": {},
   "outputs": [],
   "source": [
    "\n",
    "print(perc_filtered[[\"num_reviews_o\",\"perc_filtered_o\"]].sort_values(\"num_reviews_o\"))"
   ]
  },
  {
   "cell_type": "code",
   "execution_count": null,
   "metadata": {},
   "outputs": [],
   "source": [
    "fig = sns.scatterplot(x=\"perc_filtered_o\", y=\"perc_filtered_n\", data=perc_filtered,label=\"Percent filtered\")\n",
    "fig.get_figure().savefig(\"../graphs/perc_filtered_original_vs_new.png\")"
   ]
  },
  {
   "cell_type": "code",
   "execution_count": null,
   "metadata": {},
   "outputs": [],
   "source": [
    "fig = sns.scatterplot(x=\"num_reviews_o\", y=\"num_reviews_n\", data=perc_filtered,label=\"Number of reviews\")\n",
    "fig.get_figure().savefig(\"../graphs/num_reviews_original_vs_new.png\")"
   ]
  },
  {
   "cell_type": "code",
   "execution_count": null,
   "metadata": {},
   "outputs": [],
   "source": []
  }
 ],
 "metadata": {
  "kernelspec": {
   "display_name": "Python 3",
   "language": "python",
   "name": "python3"
  },
  "language_info": {
   "codemirror_mode": {
    "name": "ipython",
    "version": 3
   },
   "file_extension": ".py",
   "mimetype": "text/x-python",
   "name": "python",
   "nbconvert_exporter": "python",
   "pygments_lexer": "ipython3",
   "version": "3.9.6"
  }
 },
 "nbformat": 4,
 "nbformat_minor": 4
}
