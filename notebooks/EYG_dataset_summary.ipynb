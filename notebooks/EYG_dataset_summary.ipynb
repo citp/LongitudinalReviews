{
 "cells": [
  {
   "cell_type": "code",
   "execution_count": null,
   "metadata": {},
   "outputs": [],
   "source": [
    "import pandas as pd\n",
    "from tqdm import tqdm"
   ]
  },
  {
   "cell_type": "code",
   "execution_count": null,
   "metadata": {},
   "outputs": [],
   "source": [
    "tqdm.pandas()"
   ]
  },
  {
   "cell_type": "code",
   "execution_count": null,
   "metadata": {},
   "outputs": [],
   "source": [
    "yc_reviews = pd.read_pickle(\"../data/pickles/yelpchi_reviews.pkl\")\n",
    "yc_updated_reviews = pd.read_pickle(\"../data/pickles/yelpchi_updated_reviews.pkl\")"
   ]
  },
  {
   "cell_type": "code",
   "execution_count": null,
   "metadata": {},
   "outputs": [],
   "source": [
    "len(yc_reviews)+len(yc_updated_reviews)"
   ]
  },
  {
   "cell_type": "code",
   "execution_count": null,
   "metadata": {},
   "outputs": [],
   "source": [
    "len(yc_reviews[yc_reviews.matchID.isnull()])+len(yc_updated_reviews)"
   ]
  },
  {
   "cell_type": "code",
   "execution_count": null,
   "metadata": {},
   "outputs": [],
   "source": []
  },
  {
   "cell_type": "code",
   "execution_count": null,
   "metadata": {},
   "outputs": [],
   "source": [
    "(len(yc_updated_reviews[yc_updated_reviews.flagged == \"N\"]) + len(yc_reviews[yc_reviews.flagged == \"N\"])) / (len(yc_reviews) + len(yc_updated_reviews))"
   ]
  },
  {
   "cell_type": "code",
   "execution_count": null,
   "metadata": {},
   "outputs": [],
   "source": [
    "(len(yc_reviews[yc_reviews.flagged == \"N\"])) / (len(yc_reviews)),(len(yc_updated_reviews[yc_updated_reviews.flagged == \"N\"])) / (len(yc_updated_reviews))"
   ]
  },
  {
   "cell_type": "code",
   "execution_count": null,
   "metadata": {},
   "outputs": [],
   "source": [
    "yc_reviews.date.max(),yc_updated_reviews.date.max()"
   ]
  },
  {
   "cell_type": "code",
   "execution_count": null,
   "metadata": {},
   "outputs": [],
   "source": [
    "list(yc_updated_reviews),list(yc_reviews)"
   ]
  },
  {
   "cell_type": "code",
   "execution_count": null,
   "metadata": {},
   "outputs": [],
   "source": [
    "#Let's unify author IDs"
   ]
  },
  {
   "cell_type": "code",
   "execution_count": null,
   "metadata": {},
   "outputs": [],
   "source": [
    "old_to_new_ids = {}\n",
    "for _, row in tqdm(yc_reviews[yc_reviews.matchID.notnull()].iterrows(),total=len(yc_reviews)):\n",
    "    if row.reviewerID not in old_to_new_ids:\n",
    "        old_to_new_ids[row.reviewerID] = {}\n",
    "    new_match = yc_updated_reviews.loc[row.matchID]\n",
    "    if pd.notnull(new_match.user_page_url):\n",
    "        old_to_new_ids[row.reviewerID][\"r\"] = new_match.user_page_url\n",
    "    else:\n",
    "        old_to_new_ids[row.reviewerID][\"n\"] = new_match.data_hovercard_id\n",
    "        "
   ]
  },
  {
   "cell_type": "code",
   "execution_count": null,
   "metadata": {},
   "outputs": [],
   "source": [
    "author_id_mapping = {}\n",
    "\n",
    "for _, mapping in old_to_new_ids.items():\n",
    "    if \"r\" in mapping and \"n\" in mapping:\n",
    "        author_id_mapping[mapping[\"n\"]] = mapping[\"r\"]"
   ]
  },
  {
   "cell_type": "code",
   "execution_count": null,
   "metadata": {},
   "outputs": [],
   "source": [
    "def get_author_id(row):\n",
    "    if pd.notnull(row.user_page_url):\n",
    "        return row.user_page_url\n",
    "    if row.data_hovercard_id in author_id_mapping:\n",
    "        return author_id_mapping[row.data_hovercard_id]\n",
    "    return row.data_hovercard_id\n",
    "    \n",
    "yc_updated_reviews[\"author_id\"] = yc_updated_reviews.progress_apply(get_author_id,axis=1)"
   ]
  },
  {
   "cell_type": "code",
   "execution_count": null,
   "metadata": {},
   "outputs": [],
   "source": [
    "len(yc_updated_reviews[\"author_id\"].unique()),len(yc_updated_reviews[~yc_updated_reviews[\"author_id\"].isin(yc_updated_reviews.data_hovercard_id.unique())].author_id.unique())"
   ]
  },
  {
   "cell_type": "code",
   "execution_count": null,
   "metadata": {},
   "outputs": [],
   "source": [
    "len(yc_updated_reviews.data_hovercard_id.unique()),len(yc_updated_reviews.user_page_url.unique())"
   ]
  },
  {
   "cell_type": "code",
   "execution_count": null,
   "metadata": {},
   "outputs": [],
   "source": []
  }
 ],
 "metadata": {
  "kernelspec": {
   "display_name": "Python 3",
   "language": "python",
   "name": "python3"
  },
  "language_info": {
   "codemirror_mode": {
    "name": "ipython",
    "version": 3
   },
   "file_extension": ".py",
   "mimetype": "text/x-python",
   "name": "python",
   "nbconvert_exporter": "python",
   "pygments_lexer": "ipython3",
   "version": "3.9.6"
  }
 },
 "nbformat": 4,
 "nbformat_minor": 4
}
