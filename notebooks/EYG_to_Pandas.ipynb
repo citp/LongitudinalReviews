{
 "cells": [
  {
   "cell_type": "code",
   "execution_count": null,
   "metadata": {},
   "outputs": [],
   "source": [
    "import json\n",
    "import os\n",
    "import re\n",
    "import traceback\n",
    "\n",
    "import math\n",
    "import scipy\n",
    "import scipy.stats\n",
    "\n",
    "import pyzipcode\n",
    "import hashlib\n",
    "\n",
    "import matplotlib.pyplot as plt\n",
    "import seaborn as sns\n",
    "from IPython.display import Markdown\n",
    "from IPython.display import HTML\n",
    "from tqdm import tqdm\n",
    "#import fuzzywuzzy\n",
    "#import fuzzywuzzy.fuzz\n",
    "\n",
    "import sqlite3\n",
    "import pandas as pd\n",
    "import nltk\n",
    "\n",
    "import itertools\n",
    "import collections\n",
    "import functools\n",
    "import collections\n",
    "import random\n"
   ]
  },
  {
   "cell_type": "code",
   "execution_count": null,
   "metadata": {},
   "outputs": [],
   "source": [
    "# We need to be able to hash data\n",
    "\n",
    "alpha_re = re.compile(r'[a-zA-Z]')\n",
    "nonalpha_re = re.compile(r'[^a-zA-Z]+')\n",
    "#https://urlregex.com/\n",
    "link_re = re.compile(r'http[s]?://(?:[a-zA-Z]|[0-9]|[$-_@.&+]|[!*\\(\\),]|(?:%[0-9a-fA-F][0-9a-fA-F]))+')\n",
    "\n",
    "def get_bag_of_words(review):\n",
    "    \n",
    "    sentences = nltk.tokenize.sent_tokenize(review)\n",
    "    \n",
    "    tokens = itertools.chain(*(nltk.tokenize.word_tokenize(sent) for sent in sentences))\n",
    "    \n",
    "    #Lowercase\n",
    "    tokens = (token.lower() for token in tokens)\n",
    "    \n",
    "    #Needs to have alphanumeric\n",
    "    tokens = filter(alpha_re.search, tokens)\n",
    "    \n",
    "    counter = collections.Counter(tokens)\n",
    "    return counter\n",
    "\n",
    "def compare_reviews(review1, review2):\n",
    "#     bag1 = get_bag_of_words(review1)\n",
    "#     bag2 = get_bag_of_words(review2)\n",
    "#     all_words = set(itertools.chain(bag1.keys(),bag2.keys()))\n",
    "#     mismatches = 0\n",
    "#     total = 0\n",
    "#     for word in all_words:\n",
    "#         mismatches += abs(bag1[word] - bag2[word])\n",
    "#         total += bag1[word] + bag2[word]\n",
    "#     return 1-mismatches/total\n",
    "    return fuzzywuzzy.fuzz.ratio(review1,review2)\n",
    "\n",
    "def hash_review_bow(review):\n",
    "    bag = get_bag_of_words(review)\n",
    "    h = hashlib.sha1()\n",
    "    h.update(str(bag).encode())\n",
    "    return h.digest()\n",
    "\n",
    "\n",
    "def get_stripped_text(text):\n",
    "    text = link_re.sub(\"\",text)\n",
    "    return nonalpha_re.sub(\"\",text)\n",
    "\n",
    "def hash_review_stripped(review):\n",
    "    stripped_review = get_stripped_text(review)\n",
    "    h = hashlib.sha1()\n",
    "    h.update(stripped_review.encode())\n",
    "    return h.digest()"
   ]
  },
  {
   "cell_type": "markdown",
   "metadata": {},
   "source": [
    "# Load Data"
   ]
  },
  {
   "cell_type": "code",
   "execution_count": null,
   "metadata": {},
   "outputs": [],
   "source": [
    "def flatten_json(v):\n",
    "    if type(v) == str or type(v) == int or type(v) == float or type(v) == bool or v == None:\n",
    "        return v\n",
    "    if type(v) == list:\n",
    "        new_dict = {}\n",
    "        for idx, item in enumerate(v):\n",
    "            flattened = flatten_json(item)\n",
    "            if type(flattened) == dict:\n",
    "                for ko,vo in flattened.items():\n",
    "                    new_dict[\"%d.%s\" % (idx,ko)] = vo\n",
    "            else:\n",
    "                new_dict[\"%d\" % (idx)] = flattened\n",
    "        return new_dict\n",
    "    elif type(v) == dict:\n",
    "        new_dict = {}\n",
    "        for key,value in v.items():\n",
    "            value = flatten_json(value)\n",
    "            if type(value) == dict:\n",
    "                for ko,vo in value.items():\n",
    "                    new_dict[\"%s.%s\" % (key,ko)] = vo\n",
    "            else:\n",
    "                new_dict[key] = value\n",
    "        return new_dict\n",
    "    else:\n",
    "        raise Exception(v,type(v))\n",
    "            \n",
    "\n",
    "def get_yelpchi_businesses():\n",
    "    with open(\"../data/eyg_data/businessid_to_data.json\") as f:\n",
    "        businessid_map = json.load(f)\n",
    "    for bid in businessid_map:\n",
    "        if \"special_hours\" in businessid_map[bid]:\n",
    "            del businessid_map[bid][\"special_hours\"]\n",
    "        if \"hours\" in businessid_map[bid]:\n",
    "            del businessid_map[bid][\"hours\"]\n",
    "            \n",
    "        businessid_map[bid][\"businessID_alternate\"] = bid\n",
    "        try:\n",
    "            yield flatten_json(businessid_map[bid])\n",
    "        except:\n",
    "            display(businessid_map[bid])\n",
    "            raise"
   ]
  },
  {
   "cell_type": "code",
   "execution_count": null,
   "metadata": {},
   "outputs": [],
   "source": [
    "ycu_businesses = pd.DataFrame.from_records(get_yelpchi_businesses())"
   ]
  },
  {
   "cell_type": "markdown",
   "metadata": {},
   "source": [
    "## Load Yelp CHI"
   ]
  },
  {
   "cell_type": "code",
   "execution_count": null,
   "metadata": {},
   "outputs": [],
   "source": [
    "with sqlite3.connect(\"../data/eyg_data/yelpResData.db\") as conn:\n",
    "    conn.text_factory = lambda b: b.decode(errors = 'ignore')\n",
    "    yc_r_reviews = pd.read_sql_query(\"SELECT * FROM review WHERE flagged = 'Y' OR flagged = 'N';\", conn)\n",
    "    yc_r_reviewers = pd.read_sql_query(\"SELECT * FROM reviewer WHERE reviewerID IN (SELECT DISTINCT(reviewerID) FROM review WHERE flagged == 'Y' OR flagged == 'N');\", conn)\n",
    "    yc_r_data = pd.read_sql_query(\"SELECT * FROM restaurant WHERE restaurantID IN (SELECT DISTINCT(restaurantID) FROM review WHERE flagged == 'Y' OR flagged == 'N');\", conn)"
   ]
  },
  {
   "cell_type": "code",
   "execution_count": null,
   "metadata": {},
   "outputs": [],
   "source": [
    "with sqlite3.connect(\"../data/eyg_data/yelpHotelData.db\") as conn:\n",
    "    conn.text_factory = lambda b: b.decode(errors = 'ignore')\n",
    "    yc_h_reviews = pd.read_sql_query(\"SELECT * FROM review WHERE flagged = 'Y' OR flagged = 'N';\", conn)\n",
    "    yc_h_reviewers = pd.read_sql_query(\"SELECT * FROM reviewer WHERE reviewerID IN (SELECT DISTINCT(reviewerID) FROM review WHERE flagged == 'Y' OR flagged == 'N');\", conn)\n",
    "    yc_h_data = pd.read_sql_query(\"SELECT * FROM hotel WHERE hotelID IN (SELECT DISTINCT(hotelID) FROM review WHERE flagged == 'Y' OR flagged == 'N');\", conn)"
   ]
  },
  {
   "cell_type": "code",
   "execution_count": null,
   "metadata": {},
   "outputs": [],
   "source": [
    "len(yc_h_data)"
   ]
  },
  {
   "cell_type": "code",
   "execution_count": null,
   "metadata": {},
   "outputs": [],
   "source": [
    "yc_reviewers = pd.concat([yc_r_reviewers,yc_h_reviewers]).drop_duplicates(subset=[\"reviewerID\"]).set_index(\"reviewerID\")"
   ]
  },
  {
   "cell_type": "code",
   "execution_count": null,
   "metadata": {},
   "outputs": [],
   "source": [
    "yc_r_reviews[\"reviewHashStripped\"] = yc_r_reviews.reviewContent.apply(hash_review_stripped)\n",
    "yc_h_reviews[\"reviewHashStripped\"] = yc_h_reviews.reviewContent.apply(hash_review_stripped)\n",
    "yc_r_reviews[\"reviewHashBOW\"] = yc_r_reviews.reviewContent.apply(hash_review_bow)\n",
    "yc_h_reviews[\"reviewHashBOW\"] = yc_h_reviews.reviewContent.apply(hash_review_bow)"
   ]
  },
  {
   "cell_type": "code",
   "execution_count": null,
   "metadata": {},
   "outputs": [],
   "source": [
    "restaurantIDs = yc_r_reviews.restaurantID.unique()\n",
    "hotelIDs = yc_h_reviews.hotelID.unique()\n",
    "\n",
    "yc_r_reviews[\"type\"] = \"r\"\n",
    "yc_h_reviews[\"type\"] = \"h\"\n",
    "yc_h_reviews[\"businessID\"] = yc_h_reviews[\"hotelID\"]\n",
    "yc_r_reviews[\"businessID\"] = yc_r_reviews[\"restaurantID\"]\n",
    "\n",
    "yc_reviews = pd.concat([yc_r_reviews,yc_h_reviews]).reset_index(drop=True)\n",
    "\n",
    "\n"
   ]
  },
  {
   "cell_type": "code",
   "execution_count": null,
   "metadata": {},
   "outputs": [],
   "source": [
    "\n",
    "yc_h_data = yc_h_data.rename(columns={\"hotelID\":\"businessID\"})\n",
    "yc_r_data = yc_r_data.rename(columns={\"restaurantID\":\"businessID\"})\n",
    "yc_r_data[\"type\"] = \"r\"\n",
    "yc_h_data[\"type\"] = \"h\"\n",
    "\n",
    "yc_business_data = pd.concat([yc_r_data,yc_h_data])\n",
    "yc_business_data = yc_business_data.set_index(\"businessID\")\n",
    "\n",
    "\n",
    "\n",
    "yc_business_data = yc_business_data.rename(columns={\n",
    "    colname: \"yc_%s\" % colname for colname in yc_business_data\n",
    "})"
   ]
  },
  {
   "cell_type": "code",
   "execution_count": null,
   "metadata": {},
   "outputs": [],
   "source": [
    "yc_reviews"
   ]
  },
  {
   "cell_type": "code",
   "execution_count": null,
   "metadata": {},
   "outputs": [],
   "source": [
    "yc_business_data"
   ]
  },
  {
   "cell_type": "markdown",
   "metadata": {},
   "source": [
    "## Load updated data"
   ]
  },
  {
   "cell_type": "code",
   "execution_count": null,
   "metadata": {},
   "outputs": [],
   "source": [
    "with open(\"../data/eyg_data/businessid_to_data.json\") as f:\n",
    "    business_data = json.load(f)"
   ]
  },
  {
   "cell_type": "code",
   "execution_count": null,
   "metadata": {},
   "outputs": [],
   "source": [
    "business_data = pd.DataFrame.from_records(list(business_data.values()))"
   ]
  },
  {
   "cell_type": "code",
   "execution_count": null,
   "metadata": {},
   "outputs": [],
   "source": [
    "with open(\"../data/eyg_data/yelpchi_reviews.json\") as f:\n",
    "    yc_n_updated = json.load(f)\n",
    "with open(\"../data/eyg_data/yelpchi_filtered_reviews.json\") as f:\n",
    "    yc_y_updated = json.load(f)\n"
   ]
  },
  {
   "cell_type": "code",
   "execution_count": null,
   "metadata": {},
   "outputs": [],
   "source": [
    "yc_n_updated['50gFzdVglOz88eFJ6v-26A']"
   ]
  },
  {
   "cell_type": "code",
   "execution_count": null,
   "metadata": {},
   "outputs": [],
   "source": [
    "yc_y_updated['50gFzdVglOz88eFJ6v-26A']"
   ]
  },
  {
   "cell_type": "code",
   "execution_count": null,
   "metadata": {},
   "outputs": [],
   "source": [
    "def fix_reviews(reviews):\n",
    "    \"\"\"\n",
    "    Fixes a formatting bug in some of the reviews\n",
    "    \"\"\"\n",
    "    if len(reviews) != 0 and type(reviews[0]) == list:\n",
    "        assert type(reviews[1]) == int\n",
    "        assert len(reviews) == 2\n",
    "        return reviews[0]\n",
    "    return reviews"
   ]
  },
  {
   "cell_type": "code",
   "execution_count": null,
   "metadata": {},
   "outputs": [],
   "source": [
    "yc_n_updated[\"Btjt4D8dJ-yEdsts3Tj5Hg\"][0]"
   ]
  },
  {
   "cell_type": "code",
   "execution_count": null,
   "metadata": {},
   "outputs": [],
   "source": [
    "flat_reviews = []\n",
    "total = len(yc_n_updated) + len(yc_y_updated)\n",
    "\n",
    "for bid, reviews in tqdm(yc_n_updated.items(),total=total):\n",
    "    for review in reviews:\n",
    "        review[\"businessID\"] = bid\n",
    "        review[\"flagged\"] = \"N\"\n",
    "        review[\"reviewHashStripped\"] = hash_review_stripped(review[\"content\"])\n",
    "        review[\"reviewHashBOW\"] = hash_review_bow(review[\"content\"])\n",
    "        review[\"reviewHashBOWNoLF\"] = hash_review_bow(review[\"content\"].replace(\"\\n\",\"\"))\n",
    "        if type(review[\"date\"]) == list:\n",
    "            review[\"date\"] = review[\"date\"][0]\n",
    "        elif type(review[\"date\"]) != str:\n",
    "            raise Exception(review[\"date\"])\n",
    "    flat_reviews += reviews\n",
    "    \n",
    "for bid, reviews in tqdm(yc_y_updated.items(),initial=len(yc_n_updated),total=total):\n",
    "    reviews = fix_reviews(reviews)\n",
    "    for review in reviews:\n",
    "        review[\"businessID\"] = bid\n",
    "        review[\"flagged\"] = \"Y\"\n",
    "        review[\"reviewHashStripped\"] = hash_review_stripped(review[\"content\"])\n",
    "        review[\"reviewHashBOW\"] = hash_review_bow(review[\"content\"])\n",
    "        review[\"reviewHashBOWNoLF\"] = hash_review_bow(review[\"content\"].replace(\"\\n\",\"\"))\n",
    "        \n",
    "    #Filter out removed due to ToS violations\n",
    "    reviews = [review for review in reviews if review[\"content\"] != \"This review has been removed for violating our Terms of Service\"]\n",
    "        \n",
    "    flat_reviews += reviews\n",
    "    \n",
    "yc_updated_reviews = pd.DataFrame.from_records(flat_reviews)"
   ]
  },
  {
   "cell_type": "code",
   "execution_count": null,
   "metadata": {},
   "outputs": [],
   "source": [
    "yc_updated_reviews[yc_updated_reviews.flagged == \"N\"].sort_values(\"date\")"
   ]
  },
  {
   "cell_type": "code",
   "execution_count": null,
   "metadata": {},
   "outputs": [],
   "source": [
    "yc_updated_reviews[\"date\"] = pd.to_datetime(yc_updated_reviews[\"date\"])"
   ]
  },
  {
   "cell_type": "code",
   "execution_count": null,
   "metadata": {},
   "outputs": [],
   "source": [
    "yc_updated_reviews[\"reviewerID\"] = yc_updated_reviews.user_page_url.apply(lambda s: s.split(\"userid=\")[1] if type(s) is str else None)"
   ]
  },
  {
   "cell_type": "code",
   "execution_count": null,
   "metadata": {},
   "outputs": [],
   "source": [
    "yc_updated_reviews[\"user_friends\"] = pd.to_numeric(yc_updated_reviews[\"user_friends\"])\n",
    "yc_updated_reviews[\"user_photos\"] = pd.to_numeric(yc_updated_reviews[\"user_photos\"])\n",
    "yc_updated_reviews[\"user_review_count\"] = pd.to_numeric(yc_updated_reviews[\"user_review_count\"])"
   ]
  },
  {
   "cell_type": "markdown",
   "metadata": {},
   "source": [
    "### How much data have we collected?"
   ]
  },
  {
   "cell_type": "code",
   "execution_count": null,
   "metadata": {},
   "outputs": [],
   "source": [
    "num_businesses_updated = yc_updated_reviews.businessID.unique().size\n",
    "num_restaurants_updated = len(set(yc_updated_reviews.businessID.unique()) & set(yc_r_reviews.restaurantID.unique()))\n",
    "num_restaurants = yc_r_reviews.restaurantID.unique().size\n",
    "num_hotels_updated = len(set(yc_updated_reviews.businessID.unique()) & set(yc_h_reviews.hotelID.unique()))\n",
    "num_hotels = yc_h_reviews.hotelID.unique().size\n",
    "print(f\"\"\"Number of businesses updated: {num_businesses_updated}/{num_hotels+num_restaurants}\n",
    "Number of restaurants: {num_restaurants_updated}/{num_restaurants}\n",
    "Number of hotels: {num_hotels_updated}/{num_hotels}\n",
    "\"\"\")"
   ]
  },
  {
   "cell_type": "code",
   "execution_count": null,
   "metadata": {},
   "outputs": [],
   "source": [
    "len(yc_updated_reviews)"
   ]
  },
  {
   "cell_type": "code",
   "execution_count": null,
   "metadata": {},
   "outputs": [],
   "source": [
    "yc_reviews[\"date\"] = yc_reviews.date.apply(lambda s: s[10:] if \"Updated\" in s else s).astype(\"datetime64\")"
   ]
  },
  {
   "cell_type": "markdown",
   "metadata": {},
   "source": [
    "# Do more cleanup and save"
   ]
  },
  {
   "cell_type": "code",
   "execution_count": null,
   "metadata": {},
   "outputs": [],
   "source": [
    "#Todo multi-index with alternate ID\n",
    "ycu_businesses = ycu_businesses.set_index(\"businessID_alternate\")"
   ]
  },
  {
   "cell_type": "code",
   "execution_count": null,
   "metadata": {},
   "outputs": [],
   "source": [
    "set(ycu_businesses.index) - set(yc_business_data.index), ycu_businesses.shape, yc_business_data.shape"
   ]
  },
  {
   "cell_type": "code",
   "execution_count": null,
   "metadata": {},
   "outputs": [],
   "source": [
    "yc_businesses = pd.concat([ycu_businesses,yc_business_data],axis=1)"
   ]
  },
  {
   "cell_type": "code",
   "execution_count": null,
   "metadata": {},
   "outputs": [],
   "source": [
    "try:\n",
    "    os.mkdir(\"../data/pickles/\")\n",
    "except:\n",
    "    print(\"already exists\")\n",
    "    pass"
   ]
  },
  {
   "cell_type": "code",
   "execution_count": null,
   "metadata": {},
   "outputs": [],
   "source": [
    "yc_reviews.to_pickle(\"../data/pickles/yelpchi_reviews_unmatched.pkl\")\n",
    "yc_updated_reviews.to_pickle(\"../data/pickles/yelpchi_updated_reviews_unmatched.pkl\")\n",
    "yc_businesses.to_pickle(\"../data/pickles/yelpchi_businesses_unmatched.pkl\")\n",
    "#business_data.to_pickle(\"../data/pickles/yelpchi_business_data.pkl\")"
   ]
  },
  {
   "cell_type": "code",
   "execution_count": null,
   "metadata": {},
   "outputs": [],
   "source": [
    "%run ./YelpChi_Match_Reviews.ipynb\n",
    "%run ./YelpChi_Chain_Label.ipynb"
   ]
  },
  {
   "cell_type": "code",
   "execution_count": null,
   "metadata": {},
   "outputs": [],
   "source": []
  }
 ],
 "metadata": {
  "kernelspec": {
   "display_name": "Python 3",
   "language": "python",
   "name": "python3"
  },
  "language_info": {
   "codemirror_mode": {
    "name": "ipython",
    "version": 3
   },
   "file_extension": ".py",
   "mimetype": "text/x-python",
   "name": "python",
   "nbconvert_exporter": "python",
   "pygments_lexer": "ipython3",
   "version": "3.9.6"
  }
 },
 "nbformat": 4,
 "nbformat_minor": 4
}
