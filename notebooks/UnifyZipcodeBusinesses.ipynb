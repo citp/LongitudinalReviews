{
 "cells": [
  {
   "cell_type": "code",
   "execution_count": null,
   "metadata": {},
   "outputs": [],
   "source": [
    "import json\n",
    "import json\n",
    "import os\n",
    "import pandas as pd\n",
    "import collections\n",
    "import seaborn as sns\n",
    "import math\n",
    "import pyzipcode\n",
    "import hashlib\n",
    "from tqdm import tqdm"
   ]
  },
  {
   "cell_type": "code",
   "execution_count": null,
   "metadata": {},
   "outputs": [],
   "source": [
    "chicago=True"
   ]
  },
  {
   "cell_type": "code",
   "execution_count": null,
   "metadata": {},
   "outputs": [],
   "source": [
    "zipcodedb = pyzipcode.ZipCodeDatabase()\n",
    "\n",
    "def get_zipcodes(states=[\"NY\",\"CT\",\"NJ\",\"PA\",\"VT\"],use_chicago_zipcodes=False):\n",
    "    if use_chicago_zipcodes:\n",
    "        zips = ['60611', '60614', '60302', '60610', '60607', '60657', '60605',\n",
    "                '60616', '60654', '60603', '60602', '60631', '60601', '60606',\n",
    "                '60661', '60660', '60615', '60647', '60618', '60622', '60640',\n",
    "                '60625', '60642', '60613', '60641', '60646', '60608', '60630',\n",
    "                '60629', '60623', '60659', '60612', '60609', '60632', '60638',\n",
    "                '60644', '60643', '60546']\n",
    "    else:    \n",
    "        zips = sum((zipcodedb.find_zip(state=state) for state in states), start=[])\n",
    "        zips = [zipcode.zip for zipcode in zips]\n",
    "    return zips\n",
    "\n",
    "\n",
    "zipcodes = get_zipcodes(use_chicago_zipcodes=chicago)"
   ]
  },
  {
   "cell_type": "code",
   "execution_count": null,
   "metadata": {},
   "outputs": [],
   "source": [
    "prod_mapping = pd.read_csv(\"../YelpZip-Data/productIdMapping.txt\", delimiter=\"\\t\", names=[\"name\",\"prod_id\"])\n",
    "yz_names = set(prod_mapping[\"name\"])"
   ]
  },
  {
   "cell_type": "code",
   "execution_count": null,
   "metadata": {},
   "outputs": [],
   "source": [
    "business_file = \"../data/businesses/%s.json\""
   ]
  },
  {
   "cell_type": "code",
   "execution_count": null,
   "metadata": {},
   "outputs": [],
   "source": [
    "def load_businesses(zipcode, loaded_ids):\n",
    "    if not os.path.exists(business_file % zipcode):\n",
    "        return\n",
    "    with open(business_file % zipcode) as f:\n",
    "        zipcode_data = json.load(f)\n",
    "    for business in zipcode_data[zipcode]:\n",
    "        bid = business[\"id\"]\n",
    "        if bid not in loaded_ids:\n",
    "            loaded_ids.add(bid)\n",
    "            yield business"
   ]
  },
  {
   "cell_type": "code",
   "execution_count": null,
   "metadata": {},
   "outputs": [],
   "source": [
    "bids = set()\n",
    "businesses = []\n",
    "for zipcode in tqdm(zipcodes,total=len(zipcodes)):\n",
    "    for business in load_businesses(zipcode, bids):\n",
    "        if business[\"name\"] in yz_names or chicago:\n",
    "            businesses.append(business)"
   ]
  },
  {
   "cell_type": "code",
   "execution_count": null,
   "metadata": {},
   "outputs": [],
   "source": [
    "len(businesses)"
   ]
  },
  {
   "cell_type": "code",
   "execution_count": null,
   "metadata": {},
   "outputs": [],
   "source": [
    "bids2 = set()\n",
    "businesses2 = []\n",
    "for zipcode in tqdm(zipcodes,total=len(zipcodes)):\n",
    "    for business in load_businesses(zipcode, bids2):\n",
    "        businesses2.append(business)"
   ]
  },
  {
   "cell_type": "code",
   "execution_count": null,
   "metadata": {},
   "outputs": [],
   "source": [
    "len(businesses2)"
   ]
  },
  {
   "cell_type": "code",
   "execution_count": null,
   "metadata": {},
   "outputs": [],
   "source": [
    "businesses_by_zipcode = collections.defaultdict(list)\n",
    "for business in businesses:\n",
    "    businesses_by_zipcode[business[\"location\"][\"zip_code\"]].append(business)"
   ]
  },
  {
   "cell_type": "code",
   "execution_count": null,
   "metadata": {},
   "outputs": [],
   "source": [
    "try:\n",
    "    os.mkdir(\"../data/businesses_by_zipcode/\")\n",
    "except:\n",
    "    print(\"exists\")\n",
    "    pass\n",
    "try:\n",
    "    os.mkdir(\"../data/not_recommended_reviews/\")\n",
    "except:\n",
    "    print(\"exists\")\n",
    "    pass\n",
    "try:\n",
    "    os.mkdir(\"../data/recommended_reviews/\")\n",
    "except:\n",
    "    print(\"exists\")\n",
    "    pass"
   ]
  },
  {
   "cell_type": "code",
   "execution_count": null,
   "metadata": {},
   "outputs": [],
   "source": [
    "for zipcode in businesses_by_zipcode:\n",
    "    with open(\"../data/businesses_by_zipcode/%s.json\" % zipcode, \"w+\") as f: json.dump(businesses_by_zipcode[zipcode], f)"
   ]
  },
  {
   "cell_type": "code",
   "execution_count": null,
   "metadata": {},
   "outputs": [],
   "source": []
  }
 ],
 "metadata": {
  "kernelspec": {
   "display_name": "Python 3",
   "language": "python",
   "name": "python3"
  },
  "language_info": {
   "codemirror_mode": {
    "name": "ipython",
    "version": 3
   },
   "file_extension": ".py",
   "mimetype": "text/x-python",
   "name": "python",
   "nbconvert_exporter": "python",
   "pygments_lexer": "ipython3",
   "version": "3.9.6"
  }
 },
 "nbformat": 4,
 "nbformat_minor": 4
}
