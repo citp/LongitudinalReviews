{
 "cells": [
  {
   "cell_type": "code",
   "execution_count": null,
   "metadata": {},
   "outputs": [],
   "source": [
    "import os\n",
    "import re\n",
    "import datetime\n",
    "import functools\n",
    "import pandas as pd\n",
    "import seaborn as sns\n",
    "import matplotlib.pyplot as plt\n",
    "from tqdm import tqdm\n",
    "import matplotlib.dates as mdates\n",
    "import matplotlib.patches as patches\n",
    "import matplotlib.lines as lines"
   ]
  },
  {
   "cell_type": "code",
   "execution_count": null,
   "metadata": {},
   "outputs": [],
   "source": [
    "tqdm.pandas()"
   ]
  },
  {
   "cell_type": "code",
   "execution_count": null,
   "metadata": {},
   "outputs": [],
   "source": [
    "log_re = re.compile(r\"(\\d{4}\\-\\d{2}\\-\\d{2} \\d{2}\\:\\d{2}\\:\\d{2}\\,\\d{3}) (\\[\\w+\\]) (\\w+): (.*)\")"
   ]
  },
  {
   "cell_type": "code",
   "execution_count": null,
   "metadata": {},
   "outputs": [],
   "source": [
    "def read_line(line,source,fn):\n",
    "    match = log_re.match(line)\n",
    "    if match is None:\n",
    "        content = line\n",
    "        level = None\n",
    "        date = None\n",
    "    else:\n",
    "        date = datetime.datetime.fromisoformat(match.group(1).replace(\",\",\".\"))\n",
    "        level = match.group(2)\n",
    "        content = match.group(3)\n",
    "    return {\"date\": date, \"level\": level, \"content\":content,\"source\":source,\"file\":fn}\n",
    "\n",
    "def load_logs(crawl_id=\"\"):\n",
    "    folder = f\"../../logs/{crawl_id}\"\n",
    "    for root,_,files in os.walk(folder):\n",
    "        print(root)\n",
    "        crawl_id = root[len(\"../../logs/\"):]\n",
    "        for name in tqdm(files):\n",
    "            fn = f\"{root}/{name}\"\n",
    "            if not os.path.isfile(fn): continue\n",
    "            with open(fn) as f:\n",
    "                for log_data in map(lambda line: read_line(line,crawl_id,fn),f.readlines()):\n",
    "                    yield log_data\n",
    "                \n",
    "logs = pd.DataFrame(load_logs())"
   ]
  },
  {
   "cell_type": "code",
   "execution_count": null,
   "metadata": {},
   "outputs": [],
   "source": [
    "sns.histplot(x=\"date\",data=logs,hue=\"source\",multiple=\"stack\")\n",
    "plt.xticks(rotation=45)"
   ]
  },
  {
   "cell_type": "code",
   "execution_count": null,
   "metadata": {},
   "outputs": [],
   "source": [
    "cutoffs = list(map(lambda datestr: datetime.datetime.strptime(datestr,\"%Y-%m-%d\"),[\"2021-04-15\",\"2021-02-01\",\"2020-12-20\",\"2020-10-15\",\"2020-09-01\",\"2020-03-30\"]))\n",
    "crawl_ids = [\"crawl_13\", \"crawl_12\", \"crawl_11\", \"crawl_10\", \"crawl_9\", \"EYG\"]"
   ]
  },
  {
   "cell_type": "code",
   "execution_count": null,
   "metadata": {},
   "outputs": [],
   "source": [
    "fn_re = re.compile(\".*/([a-zA-Z_]+)_(\\d{8}-\\d{4}).txt\")\n",
    "def get_crawl_id(crawl_id, fn):\n",
    "    if crawl_id != \"\":\n",
    "        return crawl_id\n",
    "    \n",
    "    match = fn_re.match(fn)\n",
    "    if match is None or match.group(1) != \"yelp_review_crawl\": #only want review crawls, not business crawls\n",
    "        print(f\"No match for filename: {fn}\")\n",
    "        return None\n",
    "    date = datetime.datetime.strptime(match.group(2),\"%Y%m%d-%H%M\")\n",
    "    for cutoff, crawl_id in zip(cutoffs, crawl_ids):\n",
    "        if date > cutoff:\n",
    "            return crawl_id\n",
    "    raise Exception(f\"{date},{cutoff}\")\n",
    "    \n",
    "\n",
    "def read_line(line,source,fn):\n",
    "    match = log_re.match(line)\n",
    "    if match is None:\n",
    "        content = line\n",
    "        level = None\n",
    "        date = None\n",
    "    else:\n",
    "        date = datetime.datetime.fromisoformat(match.group(1).replace(\",\",\".\"))\n",
    "        level = match.group(2)\n",
    "        content = match.group(3)\n",
    "    return {\"date\": date, \"level\": level, \"content\":content,\"source\":source,\"file\":fn}\n",
    "\n",
    "def load_logs(crawl_id=\"\"):\n",
    "    folder = f\"../../logs/{crawl_id}\"\n",
    "    for root,_,files in os.walk(folder):\n",
    "        crawl_id = root[len(\"../../logs/\"):]\n",
    "        print(root,crawl_id)\n",
    "        for name in tqdm(files):\n",
    "            fn = f\"{root}/{name}\"\n",
    "            file_crawl_id=get_crawl_id(crawl_id,fn)\n",
    "            if not os.path.isfile(fn): continue\n",
    "            with open(fn) as f:\n",
    "                for log_data in map(lambda line: read_line(line,file_crawl_id,fn),f.readlines()):\n",
    "                    yield log_data\n",
    "                \n",
    "logs = pd.DataFrame(load_logs())"
   ]
  },
  {
   "cell_type": "code",
   "execution_count": null,
   "metadata": {},
   "outputs": [],
   "source": [
    "logs = logs.sort_values(\"date\")"
   ]
  },
  {
   "cell_type": "code",
   "execution_count": null,
   "metadata": {},
   "outputs": [],
   "source": [
    "log_sample = logs.sample(1000000).sort_values(\"date\")"
   ]
  },
  {
   "cell_type": "code",
   "execution_count": null,
   "metadata": {},
   "outputs": [],
   "source": [
    "ax = sns.histplot(x=\"date\",data=log_sample,hue=\"source\",multiple=\"stack\",palette=\"pastel\")\n",
    "plt.xticks(rotation=45)\n",
    "sns.move_legend(ax, bbox_to_anchor=(1.04,1), loc=\"upper left\")"
   ]
  },
  {
   "cell_type": "code",
   "execution_count": null,
   "metadata": {},
   "outputs": [],
   "source": [
    "ax = sns.histplot(x=\"date\",data=logs,hue=\"source\",multiple=\"stack\",palette=\"pastel\")\n",
    "plt.xticks(rotation=45)\n",
    "sns.move_legend(ax, bbox_to_anchor=(1.04,1), loc=\"upper left\")"
   ]
  },
  {
   "cell_type": "code",
   "execution_count": null,
   "metadata": {},
   "outputs": [],
   "source": [
    "times = logs.groupby(\"source\").apply(lambda df: pd.Series([df.date.min(),df.date.max()],index=[\"start\",\"end\"])).sort_values(\"start\")"
   ]
  },
  {
   "cell_type": "code",
   "execution_count": null,
   "metadata": {},
   "outputs": [],
   "source": [
    "times"
   ]
  },
  {
   "cell_type": "code",
   "execution_count": null,
   "metadata": {},
   "outputs": [],
   "source": [
    "name_map = {\"EYG\": \"EYG\",\n",
    "            \"crawl_x0\":\"UDIS-1\",\n",
    "            \"crawl_x1\":\"UDIS-2\",\n",
    "            \"crawl_x2\":\"UDIS-3\",\n",
    "            \"crawl_x3\":\"UDIS-4\",\n",
    "            \"crawl_9\":\"CHI-0\",\n",
    "            \"crawl_10\":\"CHI-1\",\n",
    "            \"crawl_11\":\"CHI-2\",\n",
    "            \"crawl_12\":\"CHI-3\",\n",
    "            \"crawl_13\":\"CHI-4\",\n",
    "            \"crawl_14\":\"CHI-5\",\n",
    "            \"crawl_15\":\"CHI-6\",\n",
    "            \"crawl_16\":\"CHI-7\",\n",
    "            \"crawl_17\":\"CHI-8\",\n",
    "           }"
   ]
  },
  {
   "cell_type": "code",
   "execution_count": null,
   "metadata": {},
   "outputs": [],
   "source": [
    "times = times.drop([\"crawl_9\",\"crawl_18\"])\n",
    "times"
   ]
  },
  {
   "cell_type": "code",
   "execution_count": null,
   "metadata": {},
   "outputs": [],
   "source": [
    "times = times.reset_index()\n",
    "times[\"source\"] = times[\"source\"].replace(name_map)\n",
    "times = times.set_index(\"source\")"
   ]
  },
  {
   "cell_type": "code",
   "execution_count": null,
   "metadata": {},
   "outputs": [],
   "source": [
    "times"
   ]
  },
  {
   "cell_type": "code",
   "execution_count": null,
   "metadata": {},
   "outputs": [],
   "source": []
  },
  {
   "cell_type": "code",
   "execution_count": null,
   "metadata": {},
   "outputs": [],
   "source": [
    "#Modified from https://stackoverflow.com/a/31163913/582136\n",
    "\n",
    "top_palette = sns.color_palette(\"pastel\")\n",
    "bottom_palette = sns.color_palette(\"tab10\")\n",
    "\n",
    "fig = plt.figure()\n",
    "ax = fig.add_subplot(111)\n",
    "\n",
    "# Create rectangle x coordinates\n",
    "startTime = times.start.min()\n",
    "endTime = times.end.max()\n",
    "\n",
    "# convert to matplotlib date representation\n",
    "start = mdates.date2num(startTime)\n",
    "end = mdates.date2num(endTime)\n",
    "buffer = 30\n",
    "\n",
    "# Plot rectangle\n",
    "bottom_ct = 0\n",
    "top_ct = 0\n",
    "c_handles = []\n",
    "c_labels = []\n",
    "o_handles = []\n",
    "o_labels = []\n",
    "for name, row in times.iterrows():\n",
    "    row_start = mdates.date2num(row.start)\n",
    "    row_end = mdates.date2num(row.end)\n",
    "    if 'UDIS' in name or name == \"EYG\":\n",
    "        y_start = 1.1\n",
    "        y_end = 1.9\n",
    "        color = top_palette[top_ct]\n",
    "        top_ct += 1\n",
    "        handles = o_handles\n",
    "        labels = o_labels\n",
    "    else:\n",
    "        y_start = 0.1\n",
    "        y_end = 0.9\n",
    "        color = bottom_palette[bottom_ct]\n",
    "        bottom_ct += 1\n",
    "        handles = c_handles\n",
    "        labels = c_labels\n",
    "    rect = patches.Rectangle((row_start, y_start), row_end - row_start, 0.8, color=color)\n",
    "    patch = ax.add_patch(rect)\n",
    "    handles.append(patch)\n",
    "    labels.append(name)\n",
    "    \n",
    "\n",
    "# assign date locator / formatter to the x-axis to get proper labels\n",
    "locator = mdates.AutoDateLocator(minticks=12)\n",
    "formatter = mdates.AutoDateFormatter(locator)\n",
    "ax.xaxis.set_major_locator(locator)\n",
    "ax.xaxis.set_major_formatter(formatter)\n",
    "\n",
    "# set the limits\n",
    "plt.xlim([start-buffer, end+buffer])\n",
    "plt.ylim([0, 2])\n",
    "plt.xticks(rotation=45)\n",
    "\n",
    "handles = o_handles  + c_handles\n",
    "labels = o_labels  + c_labels\n",
    "plt.legend(handles,labels,bbox_to_anchor=(0.5,1), loc=\"lower center\",ncol=3)\n",
    "\n",
    "ax.axes.get_yaxis().set_visible(False)\n",
    "\n",
    "fig.set_figheight(1)\n",
    "\n",
    "fig.savefig(\"../../graphs/crawl_timeline.pdf\",bbox_inches=\"tight\")"
   ]
  },
  {
   "cell_type": "code",
   "execution_count": null,
   "metadata": {},
   "outputs": [],
   "source": [
    "sns.color_palette(\"tab10\")[1]"
   ]
  },
  {
   "cell_type": "code",
   "execution_count": null,
   "metadata": {},
   "outputs": [],
   "source": []
  }
 ],
 "metadata": {
  "kernelspec": {
   "display_name": "Python 3",
   "language": "python",
   "name": "python3"
  },
  "language_info": {
   "codemirror_mode": {
    "name": "ipython",
    "version": 3
   },
   "file_extension": ".py",
   "mimetype": "text/x-python",
   "name": "python",
   "nbconvert_exporter": "python",
   "pygments_lexer": "ipython3",
   "version": "3.9.6"
  }
 },
 "nbformat": 4,
 "nbformat_minor": 4
}
