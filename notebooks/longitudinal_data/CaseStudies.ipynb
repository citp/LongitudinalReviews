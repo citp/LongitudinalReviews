{
 "cells": [
  {
   "cell_type": "code",
   "execution_count": null,
   "metadata": {},
   "outputs": [],
   "source": [
    "import constants\n",
    "import pandas  as pd\n",
    "from tqdm import tqdm\n",
    "import hashlib\n",
    "import collections\n",
    "import itertools\n",
    "import functools\n",
    "import seaborn as sns\n",
    "import pickle\n",
    "import safer\n",
    "import matplotlib.pyplot as plt\n",
    "import math\n",
    "import random\n",
    "import numpy as np"
   ]
  },
  {
   "cell_type": "code",
   "execution_count": null,
   "metadata": {},
   "outputs": [],
   "source": [
    "sns.set_style(style=\"whitegrid\")"
   ]
  },
  {
   "cell_type": "code",
   "execution_count": null,
   "metadata": {},
   "outputs": [],
   "source": [
    "extended = False\n",
    "constants.set_crawl_source(constants.CRAWL_SOURCE_EXTENDED if extended else constants.CRAWL_SOURCE_CHICAGO)"
   ]
  },
  {
   "cell_type": "code",
   "execution_count": null,
   "metadata": {},
   "outputs": [],
   "source": [
    "experiment = 2\n",
    "if not extended:\n",
    "    experiment = 1"
   ]
  },
  {
   "cell_type": "code",
   "execution_count": null,
   "metadata": {},
   "outputs": [],
   "source": [
    "tqdm.pandas()"
   ]
  },
  {
   "cell_type": "code",
   "execution_count": null,
   "metadata": {},
   "outputs": [],
   "source": [
    "df_all = pd.read_pickle(constants.LONG_DATA_FILE)"
   ]
  },
  {
   "cell_type": "code",
   "execution_count": null,
   "metadata": {},
   "outputs": [],
   "source": [
    "df_all[\"crawl_id\"].unique()"
   ]
  },
  {
   "cell_type": "code",
   "execution_count": null,
   "metadata": {},
   "outputs": [],
   "source": [
    "df_all = df_all[df_all.crawl_id.isin(constants.CRAWL_ORDER)]"
   ]
  },
  {
   "cell_type": "code",
   "execution_count": null,
   "metadata": {},
   "outputs": [],
   "source": [
    "df_all[\"crawl_id\"].unique()"
   ]
  },
  {
   "cell_type": "code",
   "execution_count": null,
   "metadata": {},
   "outputs": [],
   "source": [
    "df_all[\"crawl_number\"] = df_all[\"crawl_id\"].apply(lambda x: constants.CRAWL_NUMBER[x])\n",
    "df = df_all[df_all.experiment == experiment]\n",
    "df = df.sort_values(\"crawl_number\")"
   ]
  },
  {
   "cell_type": "code",
   "execution_count": null,
   "metadata": {},
   "outputs": [],
   "source": [
    "df[\"author_id\"] = pd.concat([df[df.user_page_url.notnull()].user_page_url.str.slice(start=len(\"/user_details?userid=\")),df[df.data_hovercard_id.notnull()].data_hovercard_id])"
   ]
  },
  {
   "cell_type": "code",
   "execution_count": null,
   "metadata": {},
   "outputs": [],
   "source": [
    "stats_df = pd.read_pickle(constants.RECALSSIFICATION_DATA_FILE)"
   ]
  },
  {
   "cell_type": "markdown",
   "metadata": {},
   "source": [
    "# Sampling functions "
   ]
  },
  {
   "cell_type": "code",
   "execution_count": null,
   "metadata": {},
   "outputs": [],
   "source": [
    "prg = random.Random(0)"
   ]
  },
  {
   "cell_type": "code",
   "execution_count": null,
   "metadata": {},
   "outputs": [],
   "source": [
    "pattern_class_chars = {True: \"-\", False: \"+\", None: \"\"} #True means not recommended, which is more intuitively a '-'\n",
    "def get_pattern(reclass_order):\n",
    "    pattern = []\n",
    "    prev_c = None\n",
    "    for c in reclass_order:\n",
    "        if c is None:\n",
    "            continue\n",
    "        \n",
    "        if c != prev_c:\n",
    "            pattern.append(c)\n",
    "            prev_c = c\n",
    "    return \"\".join(pattern_class_chars[x] for x in pattern)\n",
    "\n",
    "order_class_chars = {True: \"-\", False: \"+\", None: \"_\"} #True means not recommended, which is more intuitively a '-'\n",
    "def get_order(reclass_order):\n",
    "    pattern = []\n",
    "    prev_c = None\n",
    "    for c in reclass_order:\n",
    "        if c is None:\n",
    "            continue\n",
    "        \n",
    "        pattern.append(c)\n",
    "    return \"\".join(order_class_chars[x] for x in pattern)"
   ]
  },
  {
   "cell_type": "code",
   "execution_count": null,
   "metadata": {},
   "outputs": [],
   "source": [
    "def sample_case(stats_df=stats_df,seed=0,count=1):\n",
    "    sample = stats_df.sample(n=count,random_state=seed)\n",
    "    for rowid, row in sample.iterrows():\n",
    "        members = df.loc[row.members]\n",
    "        print(f\"\"\"Reclassificaiton pattern: {get_pattern( row.reclassification_order)}\n",
    "Reclassificaiton order: {get_order( row.reclassification_order)}\n",
    "Rating: {members.iloc[0].rating}\n",
    "Date: {members.iloc[0].date.strftime('%Y/%m/%d')}\n",
    "Name: {members.iloc[0].user_name}\n",
    "\n",
    "{members.iloc[0].content}\n",
    "\n",
    "\"\"\")\n",
    "        display(members[[\"flagged\",\"rating\",\"user_friends\",\"user_review_count\",\"user_photos\",\"elite\", \"user_name\",\"user_location\", \"crawl_id\"]])\n",
    "        print(\"\\n------------------------------------------------------------\\n\")"
   ]
  },
  {
   "cell_type": "code",
   "execution_count": null,
   "metadata": {},
   "outputs": [],
   "source": [
    "list(df)"
   ]
  },
  {
   "cell_type": "code",
   "execution_count": null,
   "metadata": {},
   "outputs": [],
   "source": [
    "sample_case()"
   ]
  },
  {
   "cell_type": "markdown",
   "metadata": {},
   "source": [
    "# Case studies"
   ]
  },
  {
   "cell_type": "code",
   "execution_count": null,
   "metadata": {},
   "outputs": [],
   "source": [
    "stats_df.reclassification_order.apply(lambda x: 0 if type(x) is float else len(x)).unique()"
   ]
  },
  {
   "cell_type": "code",
   "execution_count": null,
   "metadata": {},
   "outputs": [],
   "source": []
  },
  {
   "cell_type": "code",
   "execution_count": null,
   "metadata": {},
   "outputs": [],
   "source": []
  },
  {
   "cell_type": "code",
   "execution_count": null,
   "metadata": {},
   "outputs": [],
   "source": [
    "no_reclass_reviews = stats_df[stats_df.reclassification_swaps == 0]"
   ]
  },
  {
   "cell_type": "code",
   "execution_count": null,
   "metadata": {},
   "outputs": [],
   "source": [
    "reclass_reviews = stats_df[stats_df.reclassification_swaps >= 1]"
   ]
  },
  {
   "cell_type": "code",
   "execution_count": null,
   "metadata": {
    "tags": []
   },
   "outputs": [],
   "source": [
    "for i in range(50):\n",
    "    sample_case(reclass_reviews,i)\n",
    "    print(\"----------------------------------------------------------------\")"
   ]
  },
  {
   "cell_type": "code",
   "execution_count": null,
   "metadata": {},
   "outputs": [],
   "source": [
    "multiple_reclass_reviews = stats_df[stats_df.reclassification_swaps >= 2]"
   ]
  },
  {
   "cell_type": "code",
   "execution_count": null,
   "metadata": {
    "tags": []
   },
   "outputs": [],
   "source": [
    "for i in range(50):\n",
    "    sample_case(multiple_reclass_reviews,i)\n",
    "    print(\"----------------------------------------------------------------\")"
   ]
  },
  {
   "cell_type": "code",
   "execution_count": null,
   "metadata": {},
   "outputs": [],
   "source": []
  }
 ],
 "metadata": {
  "kernelspec": {
   "display_name": "Python 3",
   "language": "python",
   "name": "python3"
  },
  "language_info": {
   "codemirror_mode": {
    "name": "ipython",
    "version": 3
   },
   "file_extension": ".py",
   "mimetype": "text/x-python",
   "name": "python",
   "nbconvert_exporter": "python",
   "pygments_lexer": "ipython3",
   "version": "3.9.6"
  }
 },
 "nbformat": 4,
 "nbformat_minor": 4
}
