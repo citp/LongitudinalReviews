{
 "cells": [
  {
   "cell_type": "code",
   "execution_count": null,
   "metadata": {},
   "outputs": [],
   "source": [
    "import constants\n",
    "import pandas  as pd\n",
    "from tqdm import tqdm\n",
    "import hashlib\n",
    "import collections\n",
    "import itertools\n",
    "import functools\n",
    "import seaborn as sns\n",
    "import pickle\n",
    "import safer\n",
    "import matplotlib.pyplot as plt\n",
    "import random"
   ]
  },
  {
   "cell_type": "markdown",
   "metadata": {},
   "source": [
    "# CHI"
   ]
  },
  {
   "cell_type": "code",
   "execution_count": null,
   "metadata": {},
   "outputs": [],
   "source": [
    "constants.set_crawl_source(constants.CRAWL_SOURCE_CHICAGO)"
   ]
  },
  {
   "cell_type": "code",
   "execution_count": null,
   "metadata": {},
   "outputs": [],
   "source": [
    "tqdm.pandas()"
   ]
  },
  {
   "cell_type": "code",
   "execution_count": null,
   "metadata": {},
   "outputs": [],
   "source": [
    "df_chi = pd.read_pickle(constants.LONG_DATA_FILE)"
   ]
  },
  {
   "cell_type": "code",
   "execution_count": null,
   "metadata": {},
   "outputs": [],
   "source": [
    "flagged_vcs = df_chi.flagged.value_counts()\n",
    "print(f\"\"\"Number of reviews: {len(df_chi):,}\n",
    "Estimated unique reviews: {len(df_chi.content_hash.unique()):,}\n",
    "Number of businesses: {len(df_chi.business_id.unique()):,}\n",
    "Number of timepoints: {len(df_chi.crawl_id.unique())}\n",
    "Percentage recommended: {flagged_vcs[False]/(flagged_vcs[False] + flagged_vcs[True]):%}\n",
    "\"\"\")"
   ]
  },
  {
   "cell_type": "code",
   "execution_count": null,
   "metadata": {},
   "outputs": [],
   "source": [
    "sns.barplot(x=\"crawl_id\",y=\"flagged\",data=df_chi)"
   ]
  },
  {
   "cell_type": "markdown",
   "metadata": {},
   "source": [
    "# Density/Income"
   ]
  },
  {
   "cell_type": "code",
   "execution_count": null,
   "metadata": {},
   "outputs": [],
   "source": [
    "constants.set_crawl_source(constants.CRAWL_SOURCE_EXTENDED)"
   ]
  },
  {
   "cell_type": "code",
   "execution_count": null,
   "metadata": {},
   "outputs": [],
   "source": [
    "tqdm.pandas()"
   ]
  },
  {
   "cell_type": "code",
   "execution_count": null,
   "metadata": {},
   "outputs": [],
   "source": [
    "df = pd.read_pickle(constants.LONG_DATA_FILE)\n",
    "df_uds = df[df.experiment == constants.CrawlExperiment.DENSITY]\n",
    "df_uis = df[df.experiment == constants.CrawlExperiment.INCOME]"
   ]
  },
  {
   "cell_type": "code",
   "execution_count": null,
   "metadata": {},
   "outputs": [],
   "source": [
    "flagged_vcs = df_uds.flagged.value_counts()\n",
    "print(f\"\"\"Density\n",
    "Number of reviews: {len(df_uds):,}\n",
    "Estimated unique reviews: {len(df_uds.content_hash.unique()):,}\n",
    "Number of businesses: {len(df_uds.business_id.unique()):,}\n",
    "Number of timepoints: {len(df_uds.crawl_id.unique())}\n",
    "Percentage recommended: {flagged_vcs[False]/(flagged_vcs[False] + flagged_vcs[True]):%}\n",
    "\"\"\")"
   ]
  },
  {
   "cell_type": "code",
   "execution_count": null,
   "metadata": {},
   "outputs": [],
   "source": [
    "flagged_vcs = df_uis.flagged.value_counts()\n",
    "print(f\"\"\"Income\n",
    "Number of reviews: {len(df_uis):,}\n",
    "Estimated unique reviews: {len(df_uis.content_hash.unique()):,}\n",
    "Number of businesses: {len(df_uis.business_id.unique()):,}\n",
    "Number of timepoints: {len(df_uis.crawl_id.unique())}\n",
    "Percentage recommended: {flagged_vcs[False]/(flagged_vcs[False] + flagged_vcs[True]):%}\n",
    "\"\"\")"
   ]
  },
  {
   "cell_type": "code",
   "execution_count": null,
   "metadata": {},
   "outputs": [],
   "source": [
    "sns.barplot(x=\"crawl_id\",y=\"flagged\",data=df_uis)\n",
    "plt.show()\n",
    "sns.barplot(x=\"crawl_id\",y=\"flagged\",data=df_uds)\n",
    "plt.show()"
   ]
  },
  {
   "cell_type": "code",
   "execution_count": null,
   "metadata": {},
   "outputs": [],
   "source": [
    "df_uis.Stratum1.value_counts()"
   ]
  },
  {
   "cell_type": "code",
   "execution_count": null,
   "metadata": {},
   "outputs": [],
   "source": [
    "df_uds.Stratum1.value_counts()"
   ]
  },
  {
   "cell_type": "code",
   "execution_count": null,
   "metadata": {},
   "outputs": [],
   "source": []
  }
 ],
 "metadata": {
  "kernelspec": {
   "display_name": "Python 3",
   "language": "python",
   "name": "python3"
  },
  "language_info": {
   "codemirror_mode": {
    "name": "ipython",
    "version": 3
   },
   "file_extension": ".py",
   "mimetype": "text/x-python",
   "name": "python",
   "nbconvert_exporter": "python",
   "pygments_lexer": "ipython3",
   "version": "3.9.6"
  }
 },
 "nbformat": 4,
 "nbformat_minor": 4
}
