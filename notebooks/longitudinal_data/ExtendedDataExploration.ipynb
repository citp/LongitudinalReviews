{
 "cells": [
  {
   "cell_type": "code",
   "execution_count": null,
   "metadata": {},
   "outputs": [],
   "source": [
    "import constants\n",
    "import pandas  as pd\n",
    "from tqdm import tqdm\n",
    "import hashlib\n",
    "import seaborn as sns\n",
    "import pickle\n",
    "import matplotlib.pyplot as plt\n",
    "import scipy.stats"
   ]
  },
  {
   "cell_type": "code",
   "execution_count": null,
   "metadata": {},
   "outputs": [],
   "source": [
    "sns.set_style(style=\"whitegrid\")"
   ]
  },
  {
   "cell_type": "code",
   "execution_count": null,
   "metadata": {},
   "outputs": [],
   "source": [
    "tqdm.pandas()"
   ]
  },
  {
   "cell_type": "code",
   "execution_count": null,
   "metadata": {},
   "outputs": [],
   "source": [
    "constants.set_crawl_source(constants.CRAWL_SOURCE_EXTENDED)"
   ]
  },
  {
   "cell_type": "code",
   "execution_count": null,
   "metadata": {},
   "outputs": [],
   "source": [
    "with open(constants.ZIPCODE_TO_STRATA, \"rb+\") as fp:\n",
    "    zc_to_strata = pickle.load(fp)\n",
    "\n",
    "zipcodes = constants.EXTENDED_ZIPCODES\n",
    "\n",
    "with open(constants.CENSUS_STRATA_DATA, \"rb+\") as fp:\n",
    "    df_strata = pd.read_pickle(fp)\n",
    "    df_strata = df_strata.loc[zipcodes]\n",
    "    \n",
    "business_df = pd.read_pickle(constants.BUSINESS_DATA_FILE)"
   ]
  },
  {
   "cell_type": "code",
   "execution_count": null,
   "metadata": {},
   "outputs": [],
   "source": [
    "stats_df = pd.read_pickle(constants.RECALSSIFICATION_DATA_FILE)"
   ]
  },
  {
   "cell_type": "code",
   "execution_count": null,
   "metadata": {},
   "outputs": [],
   "source": [
    "df = pd.read_pickle(constants.LONG_DATA_FILE)"
   ]
  },
  {
   "cell_type": "code",
   "execution_count": null,
   "metadata": {},
   "outputs": [],
   "source": [
    "df[\"crawl_number\"] = df[\"crawl_id\"].apply(lambda x: constants.CRAWL_NUMBER[x])\n",
    "df = df.sort_values(\"crawl_number\")"
   ]
  },
  {
   "cell_type": "code",
   "execution_count": null,
   "metadata": {},
   "outputs": [],
   "source": [
    "df[\"experiment\"] = df[\"experiment\"].replace({constants.CrawlExperiment.DENSITY:\"Density\",constants.CrawlExperiment.INCOME:\"Income\"})\n",
    "business_df[\"experiment\"] = business_df[\"experiment\"].replace({constants.CrawlExperiment.DENSITY:\"Density\",constants.CrawlExperiment.INCOME:\"Income\"})"
   ]
  },
  {
   "cell_type": "code",
   "execution_count": null,
   "metadata": {},
   "outputs": [],
   "source": [
    "df = df.sort_values(\"stratum\")\n",
    "stratum_labels = {0:\"Top 20%\", 1:\"20-40%\", 2: \"40-60%\", 3: \"60-80%\", 4: \"Bot. 20%\"}\n",
    "df[\"stratum\"] = df[\"stratum\"].replace(stratum_labels)\n",
    "stratum_sort_key = {value:key for key,value in stratum_labels.items()}\n",
    "stratum_sort = lambda s: s.replace(stratum_sort_key)"
   ]
  },
  {
   "cell_type": "markdown",
   "metadata": {},
   "source": [
    "# How does the number of reviews interact with the strata?"
   ]
  },
  {
   "cell_type": "code",
   "execution_count": null,
   "metadata": {},
   "outputs": [],
   "source": [
    "# display(\"Experiment: Density\")\n",
    "# sns.barplot(x=\"stratum\",y=0,data=df[df.experiment == 2].groupby(\"stratum\").size().to_frame().reset_index()).set(title=\"Number of reviews (Density)\")\n",
    "# plt.show()\n",
    "# sns.barplot(x=\"stratum\",y=0,data=business_df[business_df.experiment == 2].groupby(\"stratum\").size().to_frame().reset_index()).set(title=\"Number of businesses (Density)\")\n",
    "# plt.show()\n",
    "# # Number of reviews in each strata\n",
    "# data=df[df.experiment == 2].groupby(\"business_id\").apply(lambda subdf: None if len(subdf) == 0 else pd.Series([len(subdf),subdf.stratum.iloc[0]],[\"count\",\"stratum\"])).dropna()\n",
    "# sns.boxplot(x=\"count\",y=\"stratum\",data=data,orient=\"h\").set(title=\"Number of reviews per business (Density)\")\n",
    "# plt.xscale('log')\n",
    "# plt.show()\n",
    "\n",
    "data=df[(df.crawl_id == \"crawl_x0\")].groupby([\"experiment\",\"stratum\"]).apply(lambda subdf: None if len(subdf) == 0 else pd.Series([len(subdf),subdf.stratum.iloc[0],subdf.experiment.iloc[0]],[\"count\",\"stratum\",\"experiment\"])).dropna()\n",
    "sns.barplot(x=\"stratum\",y=\"count\",hue=\"experiment\",data=data).set(title=\"Number of reviews\")\n",
    "plt.savefig(\"../../graphs/number_of_reviews_extended.pdf\",bbox_inches='tight')\n",
    "plt.show()\n",
    "\n",
    "data=business_df.groupby([\"experiment\",\"stratum\"]).apply(lambda subdf: None if len(subdf) == 0 else pd.Series([len(subdf),subdf.stratum.iloc[0],subdf.experiment.iloc[0]],[\"count\",\"stratum\",\"experiment\"])).dropna()\n",
    "sns.barplot(x=\"stratum\",y=\"count\",hue=\"experiment\",data=data).set(title=\"Number of businesses\")\n",
    "plt.savefig(\"../../graphs/number_of_businesses_extended.pdf\",bbox_inches='tight')\n",
    "plt.show()\n",
    "\n",
    "# Number of reviews in each strata\n",
    "data=df[(df.crawl_id == \"crawl_x0\")].groupby([\"experiment\",\"stratum\",\"business_id\"]).apply(lambda subdf: None if len(subdf) == 0 else pd.Series([len(subdf),subdf.stratum.iloc[0],subdf.experiment.iloc[0]],[\"count\",\"stratum\",\"experiment\"])).dropna()\n",
    "data=data.reset_index(drop=True).sort_values(\"stratum\",key=stratum_sort)\n",
    "sns.boxplot(x=\"count\",y=\"experiment\",hue=\"stratum\",data=data,orient=\"h\").set(xlabel=\"Number of reviews\",ylabel=\"Experiment\")\n",
    "#sns.histplot(x=\"stratum\",hue=\"experiment\",data=df[(df.crawl_id == \"crawl_x0\")],discrete=True,multiple=\"dodge\").set(title=\"Number of reviews per business\")\n",
    "plt.xscale('log')\n",
    "plt.legend(loc=\"lower left\")\n",
    "\n",
    "plt.savefig(\"../../graphs/reviews_per_business_stratified.pdf\",bbox_inches='tight')\n",
    "plt.show()"
   ]
  },
  {
   "cell_type": "code",
   "execution_count": null,
   "metadata": {},
   "outputs": [],
   "source": [
    "now = pd.Timestamp.now()\n",
    "earliest_reviews = df.groupby([\"experiment\",\"stratum\",\"business_id\"]).apply(lambda subdf: now - subdf.date.min()).rename(\"earliest_review\").dt.days.to_frame().reset_index()\n",
    "earliest_reviews=earliest_reviews.reset_index().sort_values(\"stratum\",key=stratum_sort)\n",
    "sns.barplot(x=\"experiment\",y=\"earliest_review\",hue=\"stratum\",data=earliest_reviews)\n",
    "earliest_reviews.groupby([\"experiment\",\"stratum\"]).earliest_review.median()"
   ]
  },
  {
   "cell_type": "code",
   "execution_count": null,
   "metadata": {},
   "outputs": [],
   "source": [
    "data=df[(df.crawl_id == \"crawl_x0\")].groupby([\"experiment\",\"stratum\",\"business_id\"]).apply(lambda subdf: None if len(subdf) == 0 else pd.Series([subdf.size, subdf[subdf.flagged == False].size / subdf.size,subdf.stratum.iloc[0],subdf.experiment.iloc[0]],[\"count\", \"percent_recommended\",\"stratum\",\"experiment\"])).dropna()\n",
    "data = data.dropna()\n",
    "data=data.reset_index(drop=True).sort_values(\"stratum\",key=stratum_sort)\n",
    "sns.boxplot(x=\"percent_recommended\",y=\"experiment\",hue=\"stratum\",data=data,orient=\"h\").set(xlabel=\"Percentage recommended\",ylabel=\"Experiment\")#.set(title=\"Percentage recommended by business\")\n",
    "plt.legend(loc=\"upper left\")\n",
    "plt.savefig(\"../../graphs/percentage_recommended_per_businesses_extended.pdf\",bbox_inches='tight')\n",
    "plt.show()"
   ]
  },
  {
   "cell_type": "code",
   "execution_count": null,
   "metadata": {},
   "outputs": [],
   "source": [
    "sns.barplot(y=\"percent_recommended\",x=\"stratum\",hue=\"experiment\",data=data).set(title=\"Percentage recommended by business\")"
   ]
  },
  {
   "cell_type": "code",
   "execution_count": null,
   "metadata": {},
   "outputs": [],
   "source": [
    "display(scipy.stats.spearmanr(data[\"percent_recommended\"], data[\"count\"]))\n",
    "data.reset_index(drop=True).groupby([\"experiment\",\"stratum\"]).apply(lambda x: pd.Series(scipy.stats.spearmanr(x[\"percent_recommended\"], x[\"count\"]),index=[\"correlation\",\"p_value\"]))"
   ]
  },
  {
   "cell_type": "code",
   "execution_count": null,
   "metadata": {},
   "outputs": [],
   "source": [
    "data.reset_index(drop=True).groupby([\"experiment\",\"stratum\"]).apply(lambda x: x[\"percent_recommended\"].median())"
   ]
  },
  {
   "cell_type": "code",
   "execution_count": null,
   "metadata": {},
   "outputs": [],
   "source": [
    "data"
   ]
  },
  {
   "cell_type": "code",
   "execution_count": null,
   "metadata": {},
   "outputs": [],
   "source": [
    "%%script false --no-raise-error\n",
    "for experiment in [\"Income\",\"Density\"]:\n",
    "    print(f\"{experiment}\")\n",
    "    for i in range(0,4):\n",
    "        for j in range(i+1,5):\n",
    "            result = scipy.stats.epps_singleton_2samp(data[(data.experiment == experiment) & (data.stratum == i)][\"count\"].to_numpy(), data[(data.experiment == \"Income\") & (data.stratum == j)][\"count\"].to_numpy())\n",
    "            print(f\"\\t{i},{j}: {result}\")"
   ]
  },
  {
   "cell_type": "markdown",
   "metadata": {},
   "source": [
    "# Reclassification"
   ]
  },
  {
   "cell_type": "code",
   "execution_count": null,
   "metadata": {},
   "outputs": [],
   "source": [
    "def get_experiment_and_strata(row):\n",
    "    df_row = df.loc[row.members[0]]\n",
    "    return pd.Series([df_row.experiment,df_row.stratum])\n",
    "\n",
    "#experiment_strata = stats_df.progress_apply(get_experiment_and_strata,axis=1)"
   ]
  },
  {
   "cell_type": "code",
   "execution_count": null,
   "metadata": {},
   "outputs": [],
   "source": [
    "#stats_df = pd.concat([stats_df,experiment_strata.rename({0:\"Experiment\",1:\"stratum\"},axis=1)],axis=1)"
   ]
  },
  {
   "cell_type": "code",
   "execution_count": null,
   "metadata": {},
   "outputs": [],
   "source": [
    "#stats_df[\"Stratum\"] = stats_df.stratum.progress_apply(lambda x: constants.COMBINED_STRATUM_COMMON_NAMES[x].replace(\"$\",\"\\\\$\"))"
   ]
  },
  {
   "cell_type": "code",
   "execution_count": null,
   "metadata": {},
   "outputs": [],
   "source": [
    "stats_df[\"stratum\"] = stats_df[\"stratum\"].replace(stratum_labels)\n",
    "stats_df=stats_df.sort_values(\"stratum\",key=stratum_sort)"
   ]
  },
  {
   "cell_type": "code",
   "execution_count": null,
   "metadata": {},
   "outputs": [],
   "source": [
    "stats_df[\"experiment\"] = stats_df[\"experiment\"].replace({2: \"Density\", 3: \"Income\"})"
   ]
  },
  {
   "cell_type": "code",
   "execution_count": null,
   "metadata": {},
   "outputs": [],
   "source": [
    "data=stats_df.sort_values(\"stratum\",key=stratum_sort)\n",
    "sns.barplot(x=\"experiment\",y=\"reclassification_swaps\",hue=\"stratum\",data=stats_df).set(xlabel=\"Experiment\",ylabel=\"Average number of reclassifications\")\n",
    "plt.savefig(f\"../../graphs/stratified_reclass_swaps_{constants.CRAWL_SOURCE}.pdf\",bbox_inches='tight')"
   ]
  },
  {
   "cell_type": "code",
   "execution_count": null,
   "metadata": {},
   "outputs": [],
   "source": []
  }
 ],
 "metadata": {
  "kernelspec": {
   "display_name": "Python 3",
   "language": "python",
   "name": "python3"
  },
  "language_info": {
   "codemirror_mode": {
    "name": "ipython",
    "version": 3
   },
   "file_extension": ".py",
   "mimetype": "text/x-python",
   "name": "python",
   "nbconvert_exporter": "python",
   "pygments_lexer": "ipython3",
   "version": "3.9.6"
  }
 },
 "nbformat": 4,
 "nbformat_minor": 4
}
