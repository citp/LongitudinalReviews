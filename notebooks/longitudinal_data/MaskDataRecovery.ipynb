{
 "cells": [
  {
   "cell_type": "code",
   "execution_count": null,
   "metadata": {},
   "outputs": [],
   "source": [
    "import json\n",
    "import requests\n",
    "import constants\n",
    "import time\n",
    "import random\n",
    "from tqdm import tqdm"
   ]
  },
  {
   "cell_type": "code",
   "execution_count": null,
   "metadata": {},
   "outputs": [],
   "source": [
    "import sys, os\n",
    "head = os.path.split(os.path.split(os.getcwd())[0])[0]\n",
    "sys.path.append(head)"
   ]
  },
  {
   "cell_type": "code",
   "execution_count": null,
   "metadata": {},
   "outputs": [],
   "source": [
    "import crawler.reviews_parser as rp"
   ]
  },
  {
   "cell_type": "code",
   "execution_count": null,
   "metadata": {},
   "outputs": [],
   "source": [
    "#Change this to determine which experiment is loaded\n",
    "extended = False\n",
    "\n",
    "#Set data source\n",
    "if extended:\n",
    "    source = constants.CRAWL_SOURCE_EXTENDED\n",
    "else:\n",
    "    source = constants.CRAWL_SOURCE_CHICAGO\n",
    "constants.set_crawl_source(source)"
   ]
  },
  {
   "cell_type": "code",
   "execution_count": null,
   "metadata": {},
   "outputs": [],
   "source": [
    "with open(constants.MISSING_MASK_DATA) as fp:\n",
    "    missing_data = json.load(fp)"
   ]
  },
  {
   "cell_type": "code",
   "execution_count": null,
   "metadata": {},
   "outputs": [],
   "source": [
    "try:\n",
    "    with open(constants.REPLACEMENT_MASK_DATA,\"r\") as fp:\n",
    "        mask_data = json.load(fp)\n",
    "except:\n",
    "    mask_data = {}"
   ]
  },
  {
   "cell_type": "code",
   "execution_count": null,
   "metadata": {},
   "outputs": [],
   "source": [
    "for bid, url in tqdm(missing_data.items(), total=len(missing_data)):\n",
    "    if bid in mask_data:\n",
    "        if mask_data[bid]['ammenities_need_manual_intervention']:\n",
    "            print(f\"{bid}: Failed last time, trying again\")\n",
    "        else:\n",
    "            print(f\"{bid}: Skipped ({'Fail' if mask_data[bid]['ammenities_need_manual_intervention'] else 'Success'})\")\n",
    "            continue\n",
    "    response = requests.get(url)\n",
    "    mask_data[bid] = rp.extract_business_data(response.content.decode())\n",
    "    print(f\"{bid}: {'Fail' if mask_data[bid]['ammenities_need_manual_intervention'] else 'Success'}\")\n",
    "    time.sleep(random.randrange(30,90))"
   ]
  },
  {
   "cell_type": "code",
   "execution_count": null,
   "metadata": {},
   "outputs": [],
   "source": [
    "with open(constants.REPLACEMENT_MASK_DATA,\"w+\") as fp:\n",
    "    json.dump(mask_data,fp)"
   ]
  },
  {
   "cell_type": "code",
   "execution_count": null,
   "metadata": {},
   "outputs": [],
   "source": [
    "for bid, data in mask_data.items():\n",
    "    if data[\"ammenities_need_manual_intervention\"]:\n",
    "        print(f\"{bid}: {missing_data[bid]}\")"
   ]
  },
  {
   "cell_type": "code",
   "execution_count": null,
   "metadata": {},
   "outputs": [],
   "source": [
    "missing_data[\"RsnbR0pXKh27kcckkblJqQ\"]"
   ]
  },
  {
   "cell_type": "code",
   "execution_count": null,
   "metadata": {},
   "outputs": [],
   "source": []
  }
 ],
 "metadata": {
  "kernelspec": {
   "display_name": "Python 3",
   "language": "python",
   "name": "python3"
  },
  "language_info": {
   "codemirror_mode": {
    "name": "ipython",
    "version": 3
   },
   "file_extension": ".py",
   "mimetype": "text/x-python",
   "name": "python",
   "nbconvert_exporter": "python",
   "pygments_lexer": "ipython3",
   "version": "3.9.6"
  }
 },
 "nbformat": 4,
 "nbformat_minor": 4
}
