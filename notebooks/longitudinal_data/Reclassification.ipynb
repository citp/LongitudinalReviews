{
 "cells": [
  {
   "cell_type": "code",
   "execution_count": null,
   "metadata": {},
   "outputs": [],
   "source": [
    "import constants\n",
    "import pandas  as pd\n",
    "from tqdm import tqdm\n",
    "import hashlib\n",
    "import math\n",
    "from pandarallel import pandarallel\n",
    "#import swifter"
   ]
  },
  {
   "cell_type": "code",
   "execution_count": null,
   "metadata": {},
   "outputs": [],
   "source": [
    "tqdm.pandas()\n",
    "#pandarallel.initialize()"
   ]
  },
  {
   "cell_type": "code",
   "execution_count": null,
   "metadata": {},
   "outputs": [],
   "source": [
    "extended = False\n",
    "constants.set_crawl_source(constants.CRAWL_SOURCE_EXTENDED if extended else constants.CRAWL_SOURCE_CHICAGO)"
   ]
  },
  {
   "cell_type": "code",
   "execution_count": null,
   "metadata": {},
   "outputs": [],
   "source": [
    "df = pd.read_pickle(constants.LONG_DATA_FILE)"
   ]
  },
  {
   "cell_type": "code",
   "execution_count": null,
   "metadata": {},
   "outputs": [],
   "source": [
    "df[\"crawl_number\"] = df[\"crawl_id\"].apply(lambda x: constants.CRAWL_NUMBER[x])\n",
    "df = df.sort_values(\"crawl_number\")"
   ]
  },
  {
   "cell_type": "code",
   "execution_count": null,
   "metadata": {},
   "outputs": [],
   "source": [
    "def get_stripped_text(text):\n",
    "    text = link_re.sub(\"\",text)\n",
    "    return nonalpha_re.sub(\"\",text)\n",
    "\n",
    "def hash_review_stripped(review):\n",
    "    stripped_review = get_stripped_text(review)\n",
    "    h = hashlib.sha1()\n",
    "    h.update(stripped_review.encode())\n",
    "    return h.digest()\n",
    "\n",
    "def hash_review(review):\n",
    "    h = hashlib.sha1()\n",
    "    h.update(review.encode())\n",
    "    return h.digest()"
   ]
  },
  {
   "cell_type": "code",
   "execution_count": null,
   "metadata": {},
   "outputs": [],
   "source": [
    "def get_grouped_stats(group):\n",
    "    stats_row = pd.Series()\n",
    "    val_counts = group.crawl_id.value_counts()\n",
    "    stats_row[\"recurring_reviews\"] = len(val_counts) > 1\n",
    "    stats_row[\"duplicate_reviews\"] = val_counts.apply(lambda x: x > 1).any()\n",
    "    \n",
    "    stats_row[\"members\"] = list(group.index)\n",
    "    \n",
    "    #Business metadata -- since we group by business, it should be OK to pull this out like so\n",
    "    single_review = group.iloc[0]\n",
    "    stats_row[\"experiment\"] = single_review.experiment\n",
    "    stats_row[\"stratum\"] = single_review.stratum\n",
    "    stats_row[\"Stratum1\"] = single_review.Stratum1\n",
    "    stats_row[\"Stratum2\"] = single_review.Stratum2\n",
    "    \n",
    "    if not stats_row[\"duplicate_reviews\"]:\n",
    "        \n",
    "        #Review metadata\n",
    "        stats_row[\"date\"] = single_review.date\n",
    "        stats_row[\"business_id\"] = single_review.business_id\n",
    "        stats_row[\"rating\"] = single_review.rating\n",
    "        \n",
    "        \n",
    "        \n",
    "        reclass_order = []\n",
    "        for crawl_id in constants.CRAWL_ORDER:\n",
    "            flagged_list = group[group.crawl_id == crawl_id].flagged\n",
    "            if len(flagged_list) == 0:\n",
    "                reclass_order.append(None)\n",
    "            else:\n",
    "                reclass_order.append(flagged_list.iloc[0])\n",
    "                \n",
    "        prev_val = None\n",
    "        swaps = 0\n",
    "        disappeared = False\n",
    "        reappearances = 0\n",
    "        for val in reclass_order:\n",
    "            if prev_val is not None:\n",
    "                if prev_val != val: #Did it get reclassified\n",
    "                    swaps += 1\n",
    "                if val is None:\n",
    "                    disappeared = True\n",
    "            elif disappeared and val is not None:\n",
    "                reappearances += 1\n",
    "            \n",
    "            prev_val = val\n",
    "        \n",
    "        stats_row[\"reclassification_and_disappearance_swaps\"] = swaps\n",
    "        \n",
    "        prev_val = None\n",
    "        swaps = 0\n",
    "        for val in reclass_order:\n",
    "            if val is None:\n",
    "                continue\n",
    "            if prev_val is not None:\n",
    "                if prev_val != val: #Did it get reclassified\n",
    "                    swaps += 1\n",
    "            prev_val = val\n",
    "            \n",
    "        stats_row[\"reclassification_swaps\"] = swaps\n",
    "        \n",
    "        stats_row[\"reappearances\"] = reappearances\n",
    "        try:\n",
    "            stats_row[\"reclassification_start\"] = next(filter(lambda x: x is not None, reclass_order))\n",
    "            stats_row[\"reclassification_end\"] = next(filter(lambda x: x is not None, reversed(reclass_order)))\n",
    "            stats_row[\"reclassification_order\"] = reclass_order\n",
    "        except StopIteration:\n",
    "            print(reclass_order)\n",
    "            raise\n",
    "    return pd.DataFrame([stats_row])"
   ]
  },
  {
   "cell_type": "code",
   "execution_count": null,
   "metadata": {},
   "outputs": [],
   "source": [
    "stats_df = df.groupby([\"content_hash\"]).progress_apply(get_grouped_stats)"
   ]
  },
  {
   "cell_type": "code",
   "execution_count": null,
   "metadata": {},
   "outputs": [],
   "source": [
    "stats_df = stats_df.droplevel(1) #Remove the \"0\" level"
   ]
  },
  {
   "cell_type": "code",
   "execution_count": null,
   "metadata": {},
   "outputs": [],
   "source": [
    "stats_df.to_pickle(constants.RECALSSIFICATION_DATA_FILE)"
   ]
  },
  {
   "cell_type": "code",
   "execution_count": null,
   "metadata": {},
   "outputs": [],
   "source": [
    "stats_df = pd.read_pickle(constants.RECALSSIFICATION_DATA_FILE)"
   ]
  },
  {
   "cell_type": "code",
   "execution_count": null,
   "metadata": {},
   "outputs": [],
   "source": [
    "print(f\"Percentage of duplicates reviews: {stats_df.duplicate_reviews.value_counts()[True]/len(stats_df):%}\")"
   ]
  },
  {
   "cell_type": "code",
   "execution_count": null,
   "metadata": {},
   "outputs": [],
   "source": [
    "def reappearances(reclass_order):\n",
    "    prev_val = None\n",
    "    disappeared = False\n",
    "    reappearances = 0\n",
    "    for val in reclass_order:\n",
    "        if prev_val is not None:\n",
    "            if val is None:\n",
    "                disappeared = True\n",
    "        elif disappeared and val is not None:\n",
    "            reappearances += 1\n",
    "            \n",
    "    return reappearances\n",
    "\n",
    "stats_df[stats_df.reclassification_order.notnull()].reclassification_order.apply(reappearances).value_counts()"
   ]
  },
  {
   "cell_type": "code",
   "execution_count": null,
   "metadata": {},
   "outputs": [],
   "source": [
    "class_chars = {True: \"-\", False: \"+\", None: \"\"} #True means not recommended, which is more intuitively a '-'\n",
    "def get_pattern(reclass_order):\n",
    "    pattern = []\n",
    "    prev_c = None\n",
    "    for c in reclass_order:\n",
    "        if c is None:\n",
    "            continue\n",
    "        \n",
    "        if c != prev_c:\n",
    "            pattern.append(c)\n",
    "            prev_c = c\n",
    "    return \"\".join(class_chars[x] for x in pattern)\n",
    "stats_df[\"reclassification_pattern\"] = stats_df[stats_df.reclassification_order.notnull()].reclassification_order.apply(get_pattern)"
   ]
  },
  {
   "cell_type": "code",
   "execution_count": null,
   "metadata": {},
   "outputs": [],
   "source": [
    "row = stats_df[(stats_df.reclassification_swaps == 2) & stats_df.reclassification_order.notnull()].sample(1)\n",
    "print(row.reclassification_order.iloc[0])\n",
    "display(df.loc[row.iloc[0].members])"
   ]
  },
  {
   "cell_type": "code",
   "execution_count": null,
   "metadata": {},
   "outputs": [],
   "source": [
    "for experiment in sorted(stats_df.experiment.unique()):\n",
    "    print(f\"Experiment: {experiment}\")\n",
    "    sub_df = stats_df[stats_df.experiment == experiment]\n",
    "    for i in sorted(stats_df.reclassification_swaps.unique()):\n",
    "        print(i)\n",
    "        print(\"How many started as filtered?\")\n",
    "        print(sub_df[(sub_df.reclassification_swaps == i) & sub_df.reclassification_order.notnull()].reclassification_pattern.apply(lambda x: x[0]).value_counts().sort_index())\n",
    "        print(f\"Sum: {len(sub_df[(sub_df.reclassification_swaps == i) & sub_df.reclassification_order.notnull()]):,}\")\n",
    "        perc = len(sub_df[(sub_df.reclassification_swaps == i) & sub_df.reclassification_order.notnull()])/len(sub_df[sub_df.reclassification_order.notnull()])\n",
    "        print(f\"Percentage: {perc:%} ({1-perc:%})\")\n",
    "        print(\"How many observations do we have?\")\n",
    "        print(sub_df[(sub_df.reclassification_swaps == i) & sub_df.reclassification_order.notnull()].reclassification_order.apply(lambda x: sum(map(lambda x: x != None, x))).value_counts().sort_index())\n",
    "        print(\"How many of each pattern do we have?\")\n",
    "        print(sub_df[(sub_df.reclassification_swaps == i) & sub_df.reclassification_order.notnull()].reclassification_pattern.value_counts().sort_values())\n",
    "        print(\"------------------------------------\")\n",
    "        "
   ]
  },
  {
   "cell_type": "code",
   "execution_count": null,
   "metadata": {},
   "outputs": [],
   "source": [
    "stats_df[stats_df.reclassification_order.notnull()].reclassification_order.apply(lambda x: sum(map(lambda x: x != None, x)))"
   ]
  },
  {
   "cell_type": "code",
   "execution_count": null,
   "metadata": {},
   "outputs": [],
   "source": [
    "stats_df.reclassification_order.apply(lambda x: None if (type(x) is not list and pd.isnull(x)) else sum(map(lambda x: x != None, x)))"
   ]
  },
  {
   "cell_type": "code",
   "execution_count": null,
   "metadata": {},
   "outputs": [],
   "source": [
    "stats_df[\"observations\"] = stats_df.reclassification_order.apply(lambda x: None if (type(x) is not list and pd.isnull(x)) else sum(map(lambda x: x != None, x)))"
   ]
  },
  {
   "cell_type": "code",
   "execution_count": null,
   "metadata": {},
   "outputs": [],
   "source": [
    "stats_df[(stats_df.observations == 1) & (stats_df.reclassification_swaps > 0)]"
   ]
  },
  {
   "cell_type": "code",
   "execution_count": null,
   "metadata": {},
   "outputs": [],
   "source": [
    "stats_df.duplicate_reviews.value_counts()"
   ]
  },
  {
   "cell_type": "code",
   "execution_count": null,
   "metadata": {},
   "outputs": [],
   "source": [
    "stats_df.reclassification_swaps.value_counts()"
   ]
  },
  {
   "cell_type": "code",
   "execution_count": null,
   "metadata": {},
   "outputs": [],
   "source": [
    "h = stats_df[stats_df.reclassification_swaps == 3].index[0]\n",
    "print(h)\n",
    "\n",
    "df[df.content_hash == h]"
   ]
  },
  {
   "cell_type": "code",
   "execution_count": null,
   "metadata": {},
   "outputs": [],
   "source": [
    "sample_df = stats_df[stats_df.reclassification_swaps == 2].sample(1)\n",
    "h = sample_df.index[0][0]\n",
    "display(sample_df)\n",
    "\n",
    "df[df.content_hash == h]"
   ]
  },
  {
   "cell_type": "code",
   "execution_count": null,
   "metadata": {},
   "outputs": [],
   "source": [
    "sample_df = stats_df[stats_df.reclassification_swaps == 1].sample(1)\n",
    "h = sample_df.index[0][0]\n",
    "display(sample_df)\n",
    "\n",
    "df[df.content_hash == h]"
   ]
  },
  {
   "cell_type": "markdown",
   "metadata": {},
   "source": [
    "# Clean up"
   ]
  },
  {
   "cell_type": "code",
   "execution_count": null,
   "metadata": {},
   "outputs": [],
   "source": [
    "df_original = None\n",
    "df = None\n",
    "stats_df = None\n",
    "group = None\n",
    "value = None"
   ]
  },
  {
   "cell_type": "code",
   "execution_count": null,
   "metadata": {},
   "outputs": [],
   "source": []
  }
 ],
 "metadata": {
  "kernelspec": {
   "display_name": "Python 3",
   "language": "python",
   "name": "python3"
  },
  "language_info": {
   "codemirror_mode": {
    "name": "ipython",
    "version": 3
   },
   "file_extension": ".py",
   "mimetype": "text/x-python",
   "name": "python",
   "nbconvert_exporter": "python",
   "pygments_lexer": "ipython3",
   "version": "3.9.6"
  }
 },
 "nbformat": 4,
 "nbformat_minor": 4
}
