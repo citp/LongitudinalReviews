{
 "cells": [
  {
   "cell_type": "code",
   "execution_count": null,
   "metadata": {},
   "outputs": [],
   "source": [
    "import constants\n",
    "import pandas  as pd\n",
    "from tqdm import tqdm\n",
    "import hashlib\n",
    "import collections\n",
    "import itertools\n",
    "import functools\n",
    "import seaborn as sns\n",
    "import pickle\n",
    "import safer\n",
    "import matplotlib.pyplot as plt\n",
    "import random"
   ]
  },
  {
   "cell_type": "code",
   "execution_count": null,
   "metadata": {},
   "outputs": [],
   "source": [
    "sns.set_style(style=\"whitegrid\")"
   ]
  },
  {
   "cell_type": "code",
   "execution_count": null,
   "metadata": {},
   "outputs": [],
   "source": [
    "constants.set_crawl_source(constants.CRAWL_SOURCE_CHICAGO)"
   ]
  },
  {
   "cell_type": "code",
   "execution_count": null,
   "metadata": {},
   "outputs": [],
   "source": [
    "tqdm.pandas()"
   ]
  },
  {
   "cell_type": "code",
   "execution_count": null,
   "metadata": {},
   "outputs": [],
   "source": [
    "df = pd.read_pickle(constants.LONG_DATA_FILE)"
   ]
  },
  {
   "cell_type": "code",
   "execution_count": null,
   "metadata": {},
   "outputs": [],
   "source": [
    "stats_df = pd.read_pickle(constants.RECALSSIFICATION_DATA_FILE)\n",
    "#stats_df = stats_df.reset_index(level=[1])"
   ]
  },
  {
   "cell_type": "code",
   "execution_count": null,
   "metadata": {},
   "outputs": [],
   "source": [
    "#df_hash_index = df.set_index(\"content_hash\",append=True,drop=False).reorder_levels([1,0]).sort_index(level=[0])\n",
    "#df_hash_index = df_hash_index[~df_hash_index.index.duplicated(keep='first')]"
   ]
  },
  {
   "cell_type": "code",
   "execution_count": null,
   "metadata": {},
   "outputs": [],
   "source": [
    "def fn(series):\n",
    "    content_hash = series.name\n",
    "    row = df_hash_index.xs(content_hash,level=0).iloc[0]\n",
    "    date = row.date\n",
    "    business_id = row.business_id\n",
    "    return pd.Series([date,business_id])\n",
    "    \n",
    "#s = stats_df.progress_apply(fn,axis=1)"
   ]
  },
  {
   "cell_type": "code",
   "execution_count": null,
   "metadata": {},
   "outputs": [],
   "source": [
    "#s.rename({0:\"date\", 1:\"business_id\"},axis=1)\n",
    "#stats_df[\"date\"] = s[0]\n",
    "#stats_df[\"business_id\"] = s[1]"
   ]
  },
  {
   "cell_type": "code",
   "execution_count": null,
   "metadata": {},
   "outputs": [],
   "source": [
    "stats_df.reclassification_swaps.value_counts()"
   ]
  },
  {
   "cell_type": "code",
   "execution_count": null,
   "metadata": {},
   "outputs": [],
   "source": [
    "stats_df[\"reclass_swaps_joined\"] = stats_df.reclassification_swaps.replace({0:\"0\",1:\"1\",2:\"2\",3:\"3+\",4:\"3+\",5:\"3+\"})\n",
    "swap = {k: f\"{k} ({v:,})\" for k,v in stats_df[\"reclass_swaps_joined\"].value_counts().to_dict().items()}\n",
    "stats_df[\"Number of reclassifications\"] = stats_df[\"reclass_swaps_joined\"].replace(swap)\n",
    "sns.ecdfplot(data=stats_df, x=\"date\", hue=\"Number of reclassifications\").set(xlabel=\"Date\")\n",
    "plt.savefig(f\"../../graphs/reclassification_by_date_grouped_{constants.CRAWL_SOURCE}.pdf\",bbox_inches='tight')"
   ]
  },
  {
   "cell_type": "code",
   "execution_count": null,
   "metadata": {},
   "outputs": [],
   "source": [
    "sns.ecdfplot(data=stats_df, x=\"date\", hue=\"reclassification_swaps\")\n",
    "plt.savefig(f\"../../graphs/reclassification_by_date_{constants.CRAWL_SOURCE}.pdf\",bbox_inches='tight')"
   ]
  }
 ],
 "metadata": {
  "kernelspec": {
   "display_name": "Python 3",
   "language": "python",
   "name": "python3"
  },
  "language_info": {
   "codemirror_mode": {
    "name": "ipython",
    "version": 3
   },
   "file_extension": ".py",
   "mimetype": "text/x-python",
   "name": "python",
   "nbconvert_exporter": "python",
   "pygments_lexer": "ipython3",
   "version": "3.9.6"
  }
 },
 "nbformat": 4,
 "nbformat_minor": 4
}
