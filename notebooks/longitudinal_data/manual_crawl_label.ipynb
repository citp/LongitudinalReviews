{
 "cells": [
  {
   "cell_type": "code",
   "execution_count": null,
   "metadata": {},
   "outputs": [],
   "source": [
    "import constants\n",
    "import pandas  as pd\n",
    "from tqdm import tqdm\n",
    "import hashlib\n",
    "import math\n",
    "from pandarallel import pandarallel\n",
    "import random"
   ]
  },
  {
   "cell_type": "code",
   "execution_count": null,
   "metadata": {},
   "outputs": [],
   "source": [
    "extended = True\n",
    "constants.set_crawl_source(constants.CRAWL_SOURCE_EXTENDED if extended else constants.CRAWL_SOURCE_CHICAGO)"
   ]
  },
  {
   "cell_type": "code",
   "execution_count": null,
   "metadata": {},
   "outputs": [],
   "source": [
    "df = pd.read_pickle(constants.LONG_DATA_FILE)"
   ]
  },
  {
   "cell_type": "code",
   "execution_count": null,
   "metadata": {},
   "outputs": [],
   "source": [
    "business_df = pd.read_pickle(constants.BUSINESS_DATA_FILE)"
   ]
  },
  {
   "cell_type": "code",
   "execution_count": null,
   "metadata": {},
   "outputs": [],
   "source": [
    "df_last = df[df.crawl_id == constants.CRAWL_ORDER[-1]]"
   ]
  },
  {
   "cell_type": "code",
   "execution_count": null,
   "metadata": {},
   "outputs": [],
   "source": [
    "rand = random.Random(0)\n",
    "sample = random.choices(df_last.business_id.unique(),k=100)"
   ]
  },
  {
   "cell_type": "code",
   "execution_count": null,
   "metadata": {},
   "outputs": [],
   "source": [
    "business_df[\"stripped_url\"] = business_df[\"url\"].apply(lambda s: s.split(\"?\")[0])"
   ]
  },
  {
   "cell_type": "code",
   "execution_count": null,
   "metadata": {},
   "outputs": [],
   "source": [
    "business_df[\"stripped_url\"].iloc[0]"
   ]
  },
  {
   "cell_type": "code",
   "execution_count": null,
   "metadata": {},
   "outputs": [],
   "source": []
  },
  {
   "cell_type": "code",
   "execution_count": null,
   "metadata": {},
   "outputs": [],
   "source": [
    "df[df.content.str.startswith(\"\"\"MUST VISIT!! This place has just opened up and I'll tell you what, it's DIVINE!\"\"\")].content.iloc[0]"
   ]
  },
  {
   "cell_type": "code",
   "execution_count": null,
   "metadata": {},
   "outputs": [],
   "source": [
    "rand = random.Random(1)\n",
    "for bid in sample:\n",
    "    \n",
    "    #Assume we have the same number of reviews, pick a random review in there\n",
    "    \n",
    "    df_bids = df_last[df_last.business_id == bid]\n",
    "    num_rec = len(df_bids[df_bids.flagged == False])\n",
    "    num_notrec = len(df_bids[df_bids.flagged == True])\n",
    "    \n",
    "    #Pick recommended or not recommended?\n",
    "    rec = rand.random() <= num_rec / (num_rec + num_notrec)\n",
    "    \n",
    "    offset = rand.randint(1,num_rec if rec else num_notrec)-1\n",
    "    if rec:\n",
    "        url = f\"{business_df[business_df['id'] == bid].stripped_url.iloc[0]}?start={offset//10 * 10}\"\n",
    "    else:\n",
    "        url = f\"{business_df[business_df['id'] == bid].stripped_url.iloc[0].replace('/biz/','/not_recommended_reviews/')}?not_recommended_start={offset//10}\"\n",
    "    \n",
    "    print(f\"{bid},{offset%10 + 1},{url}\")\n",
    "    "
   ]
  },
  {
   "cell_type": "code",
   "execution_count": null,
   "metadata": {},
   "outputs": [],
   "source": [
    "business_df[business_df['id'] == bid]"
   ]
  },
  {
   "cell_type": "code",
   "execution_count": null,
   "metadata": {},
   "outputs": [],
   "source": [
    "business_df"
   ]
  },
  {
   "cell_type": "code",
   "execution_count": null,
   "metadata": {},
   "outputs": [],
   "source": [
    "bid"
   ]
  },
  {
   "cell_type": "code",
   "execution_count": null,
   "metadata": {},
   "outputs": [],
   "source": []
  },
  {
   "cell_type": "code",
   "execution_count": null,
   "metadata": {},
   "outputs": [],
   "source": [
    "validation = pd.read_csv(\"../../data/validation/yelp_udis_crawl_check.csv\",names=[\"bid\",\"offset\",\"url\",\"content\"])"
   ]
  },
  {
   "cell_type": "code",
   "execution_count": null,
   "metadata": {},
   "outputs": [],
   "source": [
    "successes = 0\n",
    "total = 0\n",
    "for _,row in validation[validation.content.notnull()].iterrows():\n",
    "    bid = row.bid\n",
    "    text = row.content\n",
    "    \n",
    "    lines = [line for line in text.split(\"\\n\") if line]\n",
    "    \n",
    "    df_last_bid = df_last[(df_last.business_id == bid)]\n",
    "    df_last_bid[\"content\"] = df_last_bid.content.apply(lambda s: s.replace(u'\\xa0', u' '))\n",
    "    refined = df_last_bid[df_last_bid.content.str.contains(lines[0][:10],case=False,regex=False)]\n",
    "    if len(refined) != 0:\n",
    "        for line in lines:\n",
    "            line = line.strip()\n",
    "            refined2 = refined[refined.content.str.contains(line,case=False,regex=False)]\n",
    "            if len(refined2) == 0:\n",
    "                print(refined.content.iloc[0])\n",
    "                print(\"----\")\n",
    "                print(line)\n",
    "                print(\"--------------------------------------------\")\n",
    "                refined = refined2\n",
    "                #raise\n",
    "                break\n",
    "            refined = refined2\n",
    "    else:\n",
    "        print(f\"Failure: {row.bid},{row.content},{row.url}\")\n",
    "    success = len(refined) != 0\n",
    "    if success:\n",
    "        successes += 1\n",
    "    total += 1\n",
    "    \n",
    "print(f\"{successes/total:%}\")\n",
    "                \n",
    "            \n",
    "    \n",
    "    "
   ]
  },
  {
   "cell_type": "code",
   "execution_count": null,
   "metadata": {},
   "outputs": [],
   "source": [
    "df[df.business_id == \"=-HuWZFXXqKrIuhPTlmFRtQ\"]"
   ]
  },
  {
   "cell_type": "code",
   "execution_count": null,
   "metadata": {},
   "outputs": [],
   "source": [
    "line"
   ]
  },
  {
   "cell_type": "code",
   "execution_count": null,
   "metadata": {},
   "outputs": [],
   "source": [
    "line in refined.content.iloc[0]"
   ]
  },
  {
   "cell_type": "code",
   "execution_count": null,
   "metadata": {},
   "outputs": [],
   "source": [
    "refined.content.iloc[0]"
   ]
  },
  {
   "cell_type": "code",
   "execution_count": null,
   "metadata": {},
   "outputs": [],
   "source": []
  }
 ],
 "metadata": {
  "kernelspec": {
   "display_name": "Python 3",
   "language": "python",
   "name": "python3"
  },
  "language_info": {
   "codemirror_mode": {
    "name": "ipython",
    "version": 3
   },
   "file_extension": ".py",
   "mimetype": "text/x-python",
   "name": "python",
   "nbconvert_exporter": "python",
   "pygments_lexer": "ipython3",
   "version": "3.9.6"
  }
 },
 "nbformat": 4,
 "nbformat_minor": 4
}
