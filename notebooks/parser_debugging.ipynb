{
 "cells": [
  {
   "cell_type": "code",
   "execution_count": null,
   "metadata": {},
   "outputs": [],
   "source": [
    "from lxml import etree\n",
    "from cssselect import GenericTranslator\n",
    "from lxml.etree import XPath\n",
    "import lxml.html\n",
    "from urllib.parse import urljoin, urlparse\n",
    "import requests\n",
    "import logging\n",
    "import re\n",
    "from IPython.display import Markdown\n",
    "import importlib\n",
    "import tempfile\n",
    "from IPython.display import display, HTML"
   ]
  },
  {
   "cell_type": "code",
   "execution_count": null,
   "metadata": {},
   "outputs": [],
   "source": [
    "import sys, os\n",
    "head,tail=os.path.split(os.getcwd())\n",
    "sys.path.append(head)"
   ]
  },
  {
   "cell_type": "code",
   "execution_count": null,
   "metadata": {},
   "outputs": [],
   "source": [
    "with open(\"../logs/parse_fail_20210907-1534.txt\") as f:\n",
    "    lines = f.readlines()\n",
    "    print(\"\".join(lines[:2]))\n",
    "    document = \"\".join(lines[2:])\n",
    "    #document = \"\".join(lines)\n",
    "    \n",
    "    \n",
    "with open(\"../tmp.html\",\"w+\") as tf:\n",
    "    tf.write(document)\n",
    "    print(f'{tf.name}')\n",
    "    #display(HTML(f'<a href=\"{tf.name}\">HTML version</a>'))"
   ]
  },
  {
   "cell_type": "code",
   "execution_count": null,
   "metadata": {},
   "outputs": [],
   "source": []
  },
  {
   "cell_type": "code",
   "execution_count": null,
   "metadata": {},
   "outputs": [],
   "source": [
    "import crawler.reviews_parser as rp\n",
    "importlib.reload(rp)\n",
    "rp.logger.setLevel(logging.DEBUG)\n",
    "pass"
   ]
  },
  {
   "cell_type": "code",
   "execution_count": null,
   "metadata": {},
   "outputs": [],
   "source": [
    "rp.extract_recommended(document)"
   ]
  },
  {
   "cell_type": "markdown",
   "metadata": {},
   "source": [
    "# Don't run below this line"
   ]
  },
  {
   "cell_type": "code",
   "execution_count": null,
   "metadata": {},
   "outputs": [],
   "source": [
    "\n",
    "#Recommended reviews\n",
    "#CSS selectors\n",
    "sel_review_container = XPath(GenericTranslator().css_to_xpath(\"section\"))\n",
    "sel_review_list = XPath(GenericTranslator().css_to_xpath('ul.lemon--ul__373c0__1_cxs.undefined.list__373c0__2G8oH'))\n",
    "sel_user_card = XPath(GenericTranslator().css_to_xpath('div.lemon--div__373c0__1mboc'))\n",
    "sel_rating = XPath('descendant-or-self::div/@aria-label')\n",
    "sel_elite = XPath('descendant-or-self::a[@href=\"/elite\"]')\n",
    "sel_review = XPath(GenericTranslator().css_to_xpath('span.lemon--span__373c0__3997G.raw__373c0__3rKqk'))\n",
    "sel_review_count = XPath(GenericTranslator().css_to_xpath('div.nowrap__373c0__35McF > p'))\n",
    "sel_date = XPath(GenericTranslator().css_to_xpath('div.lemon--div__373c0__1mboc.arrange-unit__373c0__o3tjT.arrange-unit-fill__373c0__3Sfw1.border-color--default__373c0__3-ifU > span.lemon--span__373c0__3997G.text__373c0__2Kxyz.text-color--mid__373c0__jCeOG.text-align--left__373c0__2XGa-'))\n",
    "\n",
    "#Regexes\n",
    "review_count_re = re.compile(r\"(\\d+) reviews?\")\n",
    "rating_re = re.compile(r\"(\\d) star rating\")"
   ]
  },
  {
   "cell_type": "code",
   "execution_count": null,
   "metadata": {},
   "outputs": [],
   "source": [
    "business_url = \"https://www.yelp.com/biz/dunkin-arlington-heights-2\""
   ]
  },
  {
   "cell_type": "code",
   "execution_count": null,
   "metadata": {},
   "outputs": [],
   "source": [
    "stripped_business_url = urljoin(business_url, urlparse(business_url).path)\n",
    "response = requests.get(stripped_business_url, params={\"start\": \"120\"})\n",
    "document = response.content"
   ]
  },
  {
   "cell_type": "code",
   "execution_count": null,
   "metadata": {},
   "outputs": [],
   "source": [
    "with open(\"../logs/parse_fail_20200806-1025.txt\") as f:\n",
    "    lines = f.readlines()\n",
    "    print(\"\".join(lines[:2]))\n",
    "    document = \"\".join(lines[2:])\n",
    "    #document = \"\".join(lines)"
   ]
  },
  {
   "cell_type": "code",
   "execution_count": null,
   "metadata": {},
   "outputs": [],
   "source": [
    "document"
   ]
  },
  {
   "cell_type": "code",
   "execution_count": null,
   "metadata": {},
   "outputs": [],
   "source": [
    "root = etree.HTML(document)\n",
    "\n",
    "\n",
    "if \"Hey there trendsetter! You could be the first review for\" in root.xpath(\"string()\"):\n",
    "    print(\"No reviews\")\n",
    "    review_count = 0\n",
    "else:\n",
    "    review_count = sel_review_count(root)[0].xpath(\"string()\")\n",
    "    review_count = int(review_count_re.match(review_count).group(1))\n",
    "print(review_count)\n",
    "\n",
    "print(\"Elites:\")\n",
    "print(XPath('//a[@href=\"https://www.yelp.com/elite\"]')(root))\n",
    "print(\"---------\")\n",
    "\n",
    "#Grab all reviews\n",
    "review_list = None\n",
    "for elem in sel_review_container(root):\n",
    "    #print(elem.xpath(\"string()\"))\n",
    "    if \"Recommended Reviews\" in elem.xpath(\"string()\"):\n",
    "        review_list = sel_review_list(elem)[0]\n",
    "        #print(\"Found\")\n",
    "    #print(\"\\n\\n\")\n",
    "\n",
    "assert review_list is not None\n",
    "\n",
    "#print(review_list.xpath(\"string()\"))\n",
    "        \n",
    "review_accum = []\n",
    "\n",
    "#Iterate reviews\n",
    "for review in review_list:\n",
    "    assert review.tag == \"li\"\n",
    "\n",
    "    #Drop down one level\n",
    "    review = review[0]\n",
    "    assert review.tag == \"div\"\n",
    "\n",
    "    #Grab user card\n",
    "    user_card = review[0][0][0][0]\n",
    "\n",
    "    #Account info\n",
    "    data_container = user_card[1]\n",
    "    name_and_loc = data_container[0]\n",
    "    \n",
    "    print(name_and_loc.xpath(\"string()\"))\n",
    "    if \"Qype User\" in name_and_loc.xpath(\"string()\"):\n",
    "        print(\"Qype User, skipping\")\n",
    "        continue\n",
    "    \n",
    "    name = name_and_loc[0].xpath(\"string()\")\n",
    "    location = name_and_loc[1].xpath(\"string()\")\n",
    "    stats = data_container[1]\n",
    "    stats_list = list(stats.iter(\"b\"))\n",
    "\n",
    "    friends = stats_list[0].text\n",
    "    reviews = stats_list[1].text\n",
    "    if len(stats_list) > 2:\n",
    "        photos = stats_list[2].text\n",
    "    else:\n",
    "        photos = \"0\"\n",
    "        \n",
    "    print(sel_elite(user_card))\n",
    "    if len(sel_elite(user_card)) != 0:\n",
    "        elite = True\n",
    "        print(\"Found elite: %s\" % name)\n",
    "    else:\n",
    "        elite = False\n",
    "\n",
    "    #Profile picture\n",
    "    picture_container = user_card[0]\n",
    "    user_image_url = list(picture_container.iter(\"img\"))[0].get(\"src\")\n",
    "    user_page_url = list(picture_container.iter(\"a\"))[0].get(\"href\")\n",
    "\n",
    "    #Grab the rating and review\n",
    "    review_card = review[1]\n",
    "    rating = str(sel_rating(review_card)[0])\n",
    "    rating = int(rating_re.match(rating).group(1))\n",
    "    review = sel_review(review_card)[0].xpath(\"text()\")\n",
    "    review = '\\n'.join(review)\n",
    "\n",
    "    #Save the data\n",
    "    review_accum.append({\n",
    "        \"content\": review,\n",
    "        \"rating\": rating,\n",
    "        \"user_image_url\": user_image_url,\n",
    "        \"user_page_url\": user_page_url,\n",
    "        \"user_name\": name,\n",
    "        \"user_location\": location,\n",
    "        \"user_friends\": friends,\n",
    "        \"user_review_count\": reviews,\n",
    "        \"user_photos\": photos,\n",
    "        })"
   ]
  },
  {
   "cell_type": "code",
   "execution_count": null,
   "metadata": {},
   "outputs": [],
   "source": [
    "review_accum"
   ]
  },
  {
   "cell_type": "markdown",
   "metadata": {},
   "source": [
    "# Filtered"
   ]
  },
  {
   "cell_type": "code",
   "execution_count": null,
   "metadata": {},
   "outputs": [],
   "source": [
    "business_url = \"https://www.yelp.com/not_recommended_reviews/mustache-bills-diner-barnegat-light\"\n",
    "stripped_business_url = urljoin(business_url, urlparse(business_url).path)\n",
    "response = requests.get(stripped_business_url)\n",
    "document = response.content"
   ]
  },
  {
   "cell_type": "code",
   "execution_count": null,
   "metadata": {},
   "outputs": [],
   "source": [
    "with open(\"../logs/parse_fail_20200719-0639.txt\") as f:\n",
    "    lines = f.readlines()\n",
    "    print(\"\".join(lines[:2]))\n",
    "    document = \"\".join(lines[2:])"
   ]
  },
  {
   "cell_type": "code",
   "execution_count": null,
   "metadata": {},
   "outputs": [],
   "source": [
    "#CSS selectors -- filtered\n",
    "sel_filtered_review_container = XPath(GenericTranslator().css_to_xpath(\"div.ysection.not-recommended-reviews.review-list-wide div.review.review--with-sidebar\"))\n",
    "sel_filtered_review_count = XPath(GenericTranslator().css_to_xpath(\"div.ysection.not-recommended-reviews.review-list-wide > h3\"))\n",
    "sel_filtered_user_card = XPath(GenericTranslator().css_to_xpath(\"div.ypassport.media-block\"))\n",
    "sel_filtered_user_img = XPath(GenericTranslator().css_to_xpath(\"img.photo-box-img\"))\n",
    "sel_filtered_user_name = XPath(GenericTranslator().css_to_xpath(\"span.user-display-name\"))\n",
    "sel_filtered_user_location = XPath(GenericTranslator().css_to_xpath(\"li.user-location\"))\n",
    "sel_filtered_user_friends = XPath(GenericTranslator().css_to_xpath(\"li.friend-count > b\"))\n",
    "sel_filtered_user_reviews = XPath(GenericTranslator().css_to_xpath(\"li.review-count > b\"))\n",
    "sel_filtered_user_photos = XPath(GenericTranslator().css_to_xpath(\"li.photo-count > b\"))\n",
    "sel_filtered_rating = XPath(GenericTranslator().css_to_xpath(\"img[alt $= 'rating']\"))\n",
    "sel_filtered_date = XPath(GenericTranslator().css_to_xpath(\"span.rating-qualifier\"))\n",
    "sel_filtered_review_card = XPath(GenericTranslator().css_to_xpath(\"div.review-content\"))\n",
    "sel_filtered_content = XPath(GenericTranslator().css_to_xpath(\"p\"))\n",
    "sel_filtered_content_toggleable = XPath(GenericTranslator().css_to_xpath(\"span.js-content-toggleable.hidden\"))\n",
    "\n",
    "\n",
    "\n",
    "#Regexes\n",
    "filtered_review_count_re = review_count_re\n",
    "filtered_rating_re = re.compile(r\"(\\d).0 star rating\")"
   ]
  },
  {
   "cell_type": "code",
   "execution_count": null,
   "metadata": {},
   "outputs": [],
   "source": [
    "def extract_filtered(document):\n",
    "    root = etree.HTML(document)\n",
    "\n",
    "    review_count = sel_filtered_review_count(root)[0].xpath(\"string()\")\n",
    "    review_count = int(filtered_review_count_re.search(review_count).group(1))\n",
    "\n",
    "    review_accum = []\n",
    "\n",
    "    #Iterate reviews\n",
    "    for review in sel_filtered_review_container(root):\n",
    "        display(Markdown(\"---\"))\n",
    "\n",
    "        #Grab user card\n",
    "        user_card = sel_filtered_user_card(review)[0]\n",
    "\n",
    "        if \"Qype User\" in user_card.xpath(\"string()\"):\n",
    "            print(\"Skipping Qype user\")\n",
    "            continue\n",
    "\n",
    "        #Account info\n",
    "        name_container = sel_filtered_user_name(user_card)[0]\n",
    "\n",
    "        #Profile picture\n",
    "        picture_container = sel_filtered_user_img(user_card)[0]\n",
    "        user_image_url = picture_container.get(\"src\")\n",
    "        \n",
    "        name = name_container.xpath(\"string()\").strip()\n",
    "        hovercard_id = name_container.get(\"data-hovercard-id\")\n",
    "        try:\n",
    "            location = sel_filtered_user_location(user_card)[0].xpath(\"string()\").strip()\n",
    "        except:\n",
    "            locaiton = None\n",
    "        \n",
    "        friends = sel_filtered_user_friends(user_card)[0].text\n",
    "        reviews = sel_filtered_user_reviews(user_card)[0].text\n",
    "        try:\n",
    "            photos = sel_filtered_user_photos(user_card)[0].text\n",
    "        except:\n",
    "            photos = 0\n",
    "            \n",
    "        #print(user_card.xpath(\"string()\"))\n",
    "        #print(review.xpath(\"string()\"))\n",
    "        \n",
    "        review_card = sel_filtered_review_card(review)[0]\n",
    "\n",
    "        #Grab the rating and review\n",
    "        rating = sel_filtered_rating(review_card)[0].get(\"alt\")\n",
    "        rating = int(filtered_rating_re.match(rating).group(1))\n",
    "        date = sel_filtered_date(review_card)[0].text.strip()\n",
    "        \n",
    "        review_container = None\n",
    "        review_containers = sel_filtered_content_toggleable(review_card)\n",
    "        \n",
    "        review_containers_str = '\\n\\n\\n'.join((e.xpath('string()') for e in review_containers))\n",
    "        \n",
    "        print(f\"Review containers:\\n{len(review_containers)}\\n{review_containers_str}\")\n",
    "        assert len(review_containers) <= 1\n",
    "        if len(review_containers) == 1:\n",
    "            review_container = review_containers[0]\n",
    "        else:\n",
    "            review_container = sel_filtered_content(review_card)[0]\n",
    "        \n",
    "        review = review_container.xpath(\"text()\")\n",
    "        review = (line.strip() for line in review)\n",
    "        review = '\\n'.join(review)\n",
    "        \n",
    "        #print(name,friends,reviews,rating,date)\n",
    "\n",
    "        #Save the data\n",
    "        review_accum.append({\n",
    "            \"content\": review,\n",
    "            \"rating\": rating,\n",
    "            \"date\": date,\n",
    "            \"user_image_url\": user_image_url,\n",
    "            \"data_hovercard_id\": hovercard_id,\n",
    "            \"user_name\": name,\n",
    "            \"user_location\": location,\n",
    "            \"user_friends\": friends,\n",
    "            \"user_review_count\": reviews,\n",
    "            \"user_photos\": photos,\n",
    "            })\n",
    "    return review_accum, review_count"
   ]
  },
  {
   "cell_type": "code",
   "execution_count": null,
   "metadata": {},
   "outputs": [],
   "source": [
    "extract_filtered(document)"
   ]
  },
  {
   "cell_type": "code",
   "execution_count": null,
   "metadata": {},
   "outputs": [],
   "source": [
    "root = etree.HTML(document)\n",
    "review_count = sel_filtered_review_count(root)[0].xpath(\"string()\")"
   ]
  },
  {
   "cell_type": "code",
   "execution_count": null,
   "metadata": {},
   "outputs": [],
   "source": [
    "review_count"
   ]
  },
  {
   "cell_type": "code",
   "execution_count": null,
   "metadata": {},
   "outputs": [],
   "source": []
  }
 ],
 "metadata": {
  "kernelspec": {
   "display_name": "Python 3",
   "language": "python",
   "name": "python3"
  },
  "language_info": {
   "codemirror_mode": {
    "name": "ipython",
    "version": 3
   },
   "file_extension": ".py",
   "mimetype": "text/x-python",
   "name": "python",
   "nbconvert_exporter": "python",
   "pygments_lexer": "ipython3",
   "version": "3.8.10"
  }
 },
 "nbformat": 4,
 "nbformat_minor": 4
}
